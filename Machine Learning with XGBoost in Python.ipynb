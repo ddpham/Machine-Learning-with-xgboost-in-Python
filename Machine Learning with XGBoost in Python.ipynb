{
 "cells": [
  {
   "cell_type": "markdown",
   "metadata": {},
   "source": [
    "# Machine Learning with XGBoost in Python"
   ]
  },
  {
   "cell_type": "markdown",
   "metadata": {},
   "source": [
    "### Một số các bước sẽ thực hiện:\n",
    "\n",
    "1) Lấy dữ liệu phân loại (label/target), chuyển sang loại dữ liệu dạng one-hot encoding\n",
    "\n",
    "2) Lọc ra các biến độc lập (features) biến đổi dữ liệu về các dạng phù hợp: dạng số (numeric) hoặc dạng phân loại (label)\n",
    "\n",
    "3) Làm sạch dữ liệu: xử lý dữ liệu bị thiếu, sửa dữ liệu phù hợp trước khi xây dựng mô hình\n",
    "\n",
    "4) Tạo mô hình\n",
    "\n",
    "5) Tinh chỉnh mô hình"
   ]
  },
  {
   "cell_type": "code",
   "execution_count": 1,
   "metadata": {},
   "outputs": [],
   "source": [
    "# Gọi các gói cần thiết cho các bược cần thực hiện:\n",
    "import pandas as pd # xử lý dữ liệu\n",
    "import numpy as np # xử lý dữ liệu\n",
    "from sklearn.preprocessing import OneHotEncoder # biến đổi dữ liệu thành dạng phân loại (label)\n",
    "from sklearn.model_selection import train_test_split # chia dữ liệu trước khi xây dựng mô hình\n",
    "from sklearn.metrics import accuracy_score, confusion_matrix, precision_score, precision_recall_curve # các chỉ số kiểm tra chất lượng mô hình\n",
    "import xgboost as xgb # xây dựng mô hình xgboost"
   ]
  },
  {
   "cell_type": "code",
   "execution_count": 2,
   "metadata": {},
   "outputs": [],
   "source": [
    "# Lấy dữ liệu:\n",
    "data = pd.read_csv('.../Outbreak_240817.csv')"
   ]
  },
  {
   "cell_type": "code",
   "execution_count": 3,
   "metadata": {},
   "outputs": [
    {
     "name": "stdout",
     "output_type": "stream",
     "text": [
      "<class 'pandas.core.frame.DataFrame'>\n",
      "RangeIndex: 17008 entries, 0 to 17007\n",
      "Data columns (total 24 columns):\n",
      "Id                    17008 non-null int64\n",
      "source                17008 non-null object\n",
      "latitude              17008 non-null float64\n",
      "longitude             17008 non-null float64\n",
      "region                17008 non-null object\n",
      "country               17008 non-null object\n",
      "admin1                17008 non-null object\n",
      "localityName          17008 non-null object\n",
      "localityQuality       17008 non-null object\n",
      "observationDate       16506 non-null object\n",
      "reportingDate         17008 non-null object\n",
      "status                17008 non-null object\n",
      "disease               17008 non-null object\n",
      "serotypes             10067 non-null object\n",
      "speciesDescription    15360 non-null object\n",
      "sumAtRisk             9757 non-null float64\n",
      "sumCases              14535 non-null float64\n",
      "sumDeaths             14168 non-null float64\n",
      "sumDestroyed          13005 non-null float64\n",
      "sumSlaughtered        12235 non-null float64\n",
      "humansGenderDesc      360 non-null object\n",
      "humansAge             1068 non-null float64\n",
      "humansAffected        1417 non-null float64\n",
      "humansDeaths          451 non-null float64\n",
      "dtypes: float64(10), int64(1), object(13)\n",
      "memory usage: 3.1+ MB\n"
     ]
    }
   ],
   "source": [
    "# Lấy thông tin cơ bản của dữ liệu:\n",
    "data.info()"
   ]
  },
  {
   "cell_type": "markdown",
   "metadata": {},
   "source": [
    "Một số điểm có thể thấy ở đây như: tổng số lượng bản ghi (observation), các loại dữ liệu của từng trường và các trường dữ liệu nào có dữ liệu bị trống hay không."
   ]
  },
  {
   "cell_type": "code",
   "execution_count": 4,
   "metadata": {
    "scrolled": true
   },
   "outputs": [
    {
     "data": {
      "text/html": [
       "<div>\n",
       "<style scoped>\n",
       "    .dataframe tbody tr th:only-of-type {\n",
       "        vertical-align: middle;\n",
       "    }\n",
       "\n",
       "    .dataframe tbody tr th {\n",
       "        vertical-align: top;\n",
       "    }\n",
       "\n",
       "    .dataframe thead th {\n",
       "        text-align: right;\n",
       "    }\n",
       "</style>\n",
       "<table border=\"1\" class=\"dataframe\">\n",
       "  <thead>\n",
       "    <tr style=\"text-align: right;\">\n",
       "      <th></th>\n",
       "      <th>Id</th>\n",
       "      <th>source</th>\n",
       "      <th>latitude</th>\n",
       "      <th>longitude</th>\n",
       "      <th>region</th>\n",
       "      <th>country</th>\n",
       "      <th>admin1</th>\n",
       "      <th>localityName</th>\n",
       "      <th>localityQuality</th>\n",
       "      <th>observationDate</th>\n",
       "      <th>...</th>\n",
       "      <th>speciesDescription</th>\n",
       "      <th>sumAtRisk</th>\n",
       "      <th>sumCases</th>\n",
       "      <th>sumDeaths</th>\n",
       "      <th>sumDestroyed</th>\n",
       "      <th>sumSlaughtered</th>\n",
       "      <th>humansGenderDesc</th>\n",
       "      <th>humansAge</th>\n",
       "      <th>humansAffected</th>\n",
       "      <th>humansDeaths</th>\n",
       "    </tr>\n",
       "  </thead>\n",
       "  <tbody>\n",
       "    <tr>\n",
       "      <th>0</th>\n",
       "      <td>230399</td>\n",
       "      <td>OIE</td>\n",
       "      <td>-27.900000</td>\n",
       "      <td>30.800000</td>\n",
       "      <td>Africa</td>\n",
       "      <td>South Africa</td>\n",
       "      <td>KwaZulu-Natal</td>\n",
       "      <td>HPAI_H5N8_2017_019</td>\n",
       "      <td>Exact</td>\n",
       "      <td>17/08/2017</td>\n",
       "      <td>...</td>\n",
       "      <td>domestic, unspecified bird</td>\n",
       "      <td>248000.0</td>\n",
       "      <td>12.0</td>\n",
       "      <td>12.0</td>\n",
       "      <td>50000.0</td>\n",
       "      <td>0.0</td>\n",
       "      <td>NaN</td>\n",
       "      <td>0.0</td>\n",
       "      <td>NaN</td>\n",
       "      <td>NaN</td>\n",
       "    </tr>\n",
       "    <tr>\n",
       "      <th>1</th>\n",
       "      <td>230381</td>\n",
       "      <td>OIE</td>\n",
       "      <td>54.837037</td>\n",
       "      <td>73.354155</td>\n",
       "      <td>Europe</td>\n",
       "      <td>Russian Federation</td>\n",
       "      <td>Omskaya Oblast</td>\n",
       "      <td>Novaya Stanica</td>\n",
       "      <td>Exact</td>\n",
       "      <td>16/08/2017</td>\n",
       "      <td>...</td>\n",
       "      <td>domestic, swine</td>\n",
       "      <td>122.0</td>\n",
       "      <td>6.0</td>\n",
       "      <td>1.0</td>\n",
       "      <td>0.0</td>\n",
       "      <td>0.0</td>\n",
       "      <td>NaN</td>\n",
       "      <td>NaN</td>\n",
       "      <td>NaN</td>\n",
       "      <td>NaN</td>\n",
       "    </tr>\n",
       "    <tr>\n",
       "      <th>2</th>\n",
       "      <td>230333</td>\n",
       "      <td>OIE</td>\n",
       "      <td>-21.077740</td>\n",
       "      <td>30.211620</td>\n",
       "      <td>Africa</td>\n",
       "      <td>Zimbabwe</td>\n",
       "      <td>Masvingo</td>\n",
       "      <td>Mwambe</td>\n",
       "      <td>Exact</td>\n",
       "      <td>16/08/2017</td>\n",
       "      <td>...</td>\n",
       "      <td>domestic, cattle</td>\n",
       "      <td>1283.0</td>\n",
       "      <td>112.0</td>\n",
       "      <td>0.0</td>\n",
       "      <td>NaN</td>\n",
       "      <td>7.0</td>\n",
       "      <td>NaN</td>\n",
       "      <td>NaN</td>\n",
       "      <td>NaN</td>\n",
       "      <td>NaN</td>\n",
       "    </tr>\n",
       "    <tr>\n",
       "      <th>3</th>\n",
       "      <td>230396</td>\n",
       "      <td>OIE</td>\n",
       "      <td>-26.000000</td>\n",
       "      <td>28.300000</td>\n",
       "      <td>Africa</td>\n",
       "      <td>South Africa</td>\n",
       "      <td>Gauteng</td>\n",
       "      <td>HPAI_H5N8_2017_020</td>\n",
       "      <td>Exact</td>\n",
       "      <td>15/08/2017</td>\n",
       "      <td>...</td>\n",
       "      <td>wild, unspecified bird</td>\n",
       "      <td>NaN</td>\n",
       "      <td>1.0</td>\n",
       "      <td>1.0</td>\n",
       "      <td>0.0</td>\n",
       "      <td>0.0</td>\n",
       "      <td>NaN</td>\n",
       "      <td>0.0</td>\n",
       "      <td>NaN</td>\n",
       "      <td>NaN</td>\n",
       "    </tr>\n",
       "    <tr>\n",
       "      <th>4</th>\n",
       "      <td>230371</td>\n",
       "      <td>OIE</td>\n",
       "      <td>49.237900</td>\n",
       "      <td>17.700200</td>\n",
       "      <td>Europe</td>\n",
       "      <td>Czech Republic</td>\n",
       "      <td>Jihomoravsky</td>\n",
       "      <td>Hvozdná</td>\n",
       "      <td>Exact</td>\n",
       "      <td>15/08/2017</td>\n",
       "      <td>...</td>\n",
       "      <td>wild, wild boar</td>\n",
       "      <td>NaN</td>\n",
       "      <td>1.0</td>\n",
       "      <td>1.0</td>\n",
       "      <td>NaN</td>\n",
       "      <td>NaN</td>\n",
       "      <td>NaN</td>\n",
       "      <td>NaN</td>\n",
       "      <td>NaN</td>\n",
       "      <td>NaN</td>\n",
       "    </tr>\n",
       "    <tr>\n",
       "      <th>5</th>\n",
       "      <td>230370</td>\n",
       "      <td>OIE</td>\n",
       "      <td>49.237300</td>\n",
       "      <td>17.700800</td>\n",
       "      <td>Europe</td>\n",
       "      <td>Czech Republic</td>\n",
       "      <td>Jihomoravsky</td>\n",
       "      <td>Ostrata</td>\n",
       "      <td>Exact</td>\n",
       "      <td>15/08/2017</td>\n",
       "      <td>...</td>\n",
       "      <td>wild, wild boar</td>\n",
       "      <td>NaN</td>\n",
       "      <td>1.0</td>\n",
       "      <td>1.0</td>\n",
       "      <td>NaN</td>\n",
       "      <td>NaN</td>\n",
       "      <td>NaN</td>\n",
       "      <td>NaN</td>\n",
       "      <td>NaN</td>\n",
       "      <td>NaN</td>\n",
       "    </tr>\n",
       "    <tr>\n",
       "      <th>6</th>\n",
       "      <td>230395</td>\n",
       "      <td>OIE</td>\n",
       "      <td>-26.000000</td>\n",
       "      <td>28.300000</td>\n",
       "      <td>Africa</td>\n",
       "      <td>South Africa</td>\n",
       "      <td>Gauteng</td>\n",
       "      <td>HPAI_H5N8_2017_021</td>\n",
       "      <td>Exact</td>\n",
       "      <td>14/08/2017</td>\n",
       "      <td>...</td>\n",
       "      <td>domestic, goose</td>\n",
       "      <td>34.0</td>\n",
       "      <td>19.0</td>\n",
       "      <td>19.0</td>\n",
       "      <td>0.0</td>\n",
       "      <td>0.0</td>\n",
       "      <td>NaN</td>\n",
       "      <td>0.0</td>\n",
       "      <td>NaN</td>\n",
       "      <td>NaN</td>\n",
       "    </tr>\n",
       "    <tr>\n",
       "      <th>7</th>\n",
       "      <td>230367</td>\n",
       "      <td>OIE</td>\n",
       "      <td>47.771608</td>\n",
       "      <td>33.993286</td>\n",
       "      <td>Europe</td>\n",
       "      <td>Ukraine</td>\n",
       "      <td>Dnipropetrovs'ka</td>\n",
       "      <td>Slovyanka</td>\n",
       "      <td>Exact</td>\n",
       "      <td>14/08/2017</td>\n",
       "      <td>...</td>\n",
       "      <td>domestic, swine</td>\n",
       "      <td>2.0</td>\n",
       "      <td>2.0</td>\n",
       "      <td>2.0</td>\n",
       "      <td>0.0</td>\n",
       "      <td>0.0</td>\n",
       "      <td>NaN</td>\n",
       "      <td>NaN</td>\n",
       "      <td>NaN</td>\n",
       "      <td>NaN</td>\n",
       "    </tr>\n",
       "    <tr>\n",
       "      <th>8</th>\n",
       "      <td>230379</td>\n",
       "      <td>OIE</td>\n",
       "      <td>56.538381</td>\n",
       "      <td>16.119304</td>\n",
       "      <td>Europe</td>\n",
       "      <td>Sweden</td>\n",
       "      <td>Kalmar Laen</td>\n",
       "      <td>Kalmar</td>\n",
       "      <td>Exact</td>\n",
       "      <td>13/08/2017</td>\n",
       "      <td>...</td>\n",
       "      <td>domestic, chicken</td>\n",
       "      <td>4000.0</td>\n",
       "      <td>1600.0</td>\n",
       "      <td>0.0</td>\n",
       "      <td>4000.0</td>\n",
       "      <td>0.0</td>\n",
       "      <td>NaN</td>\n",
       "      <td>NaN</td>\n",
       "      <td>NaN</td>\n",
       "      <td>NaN</td>\n",
       "    </tr>\n",
       "    <tr>\n",
       "      <th>9</th>\n",
       "      <td>230394</td>\n",
       "      <td>OIE</td>\n",
       "      <td>-24.600000</td>\n",
       "      <td>27.200000</td>\n",
       "      <td>Africa</td>\n",
       "      <td>South Africa</td>\n",
       "      <td>Limpopo</td>\n",
       "      <td>HPAI_H5N8_2017_022</td>\n",
       "      <td>Exact</td>\n",
       "      <td>12/08/2017</td>\n",
       "      <td>...</td>\n",
       "      <td>domestic, unspecified bird</td>\n",
       "      <td>62.0</td>\n",
       "      <td>5.0</td>\n",
       "      <td>5.0</td>\n",
       "      <td>0.0</td>\n",
       "      <td>0.0</td>\n",
       "      <td>NaN</td>\n",
       "      <td>NaN</td>\n",
       "      <td>NaN</td>\n",
       "      <td>NaN</td>\n",
       "    </tr>\n",
       "  </tbody>\n",
       "</table>\n",
       "<p>10 rows × 24 columns</p>\n",
       "</div>"
      ],
      "text/plain": [
       "       Id source   latitude  longitude  region             country  \\\n",
       "0  230399    OIE -27.900000  30.800000  Africa        South Africa   \n",
       "1  230381    OIE  54.837037  73.354155  Europe  Russian Federation   \n",
       "2  230333    OIE -21.077740  30.211620  Africa            Zimbabwe   \n",
       "3  230396    OIE -26.000000  28.300000  Africa        South Africa   \n",
       "4  230371    OIE  49.237900  17.700200  Europe      Czech Republic   \n",
       "5  230370    OIE  49.237300  17.700800  Europe      Czech Republic   \n",
       "6  230395    OIE -26.000000  28.300000  Africa        South Africa   \n",
       "7  230367    OIE  47.771608  33.993286  Europe             Ukraine   \n",
       "8  230379    OIE  56.538381  16.119304  Europe              Sweden   \n",
       "9  230394    OIE -24.600000  27.200000  Africa        South Africa   \n",
       "\n",
       "             admin1        localityName localityQuality observationDate  \\\n",
       "0     KwaZulu-Natal  HPAI_H5N8_2017_019           Exact      17/08/2017   \n",
       "1    Omskaya Oblast      Novaya Stanica           Exact      16/08/2017   \n",
       "2          Masvingo              Mwambe           Exact      16/08/2017   \n",
       "3           Gauteng  HPAI_H5N8_2017_020           Exact      15/08/2017   \n",
       "4      Jihomoravsky             Hvozdná           Exact      15/08/2017   \n",
       "5      Jihomoravsky             Ostrata           Exact      15/08/2017   \n",
       "6           Gauteng  HPAI_H5N8_2017_021           Exact      14/08/2017   \n",
       "7  Dnipropetrovs'ka           Slovyanka           Exact      14/08/2017   \n",
       "8       Kalmar Laen              Kalmar           Exact      13/08/2017   \n",
       "9           Limpopo  HPAI_H5N8_2017_022           Exact      12/08/2017   \n",
       "\n",
       "       ...               speciesDescription sumAtRisk sumCases sumDeaths  \\\n",
       "0      ...       domestic, unspecified bird  248000.0     12.0      12.0   \n",
       "1      ...                  domestic, swine     122.0      6.0       1.0   \n",
       "2      ...                 domestic, cattle    1283.0    112.0       0.0   \n",
       "3      ...           wild, unspecified bird       NaN      1.0       1.0   \n",
       "4      ...                  wild, wild boar       NaN      1.0       1.0   \n",
       "5      ...                  wild, wild boar       NaN      1.0       1.0   \n",
       "6      ...                  domestic, goose      34.0     19.0      19.0   \n",
       "7      ...                  domestic, swine       2.0      2.0       2.0   \n",
       "8      ...                domestic, chicken    4000.0   1600.0       0.0   \n",
       "9      ...       domestic, unspecified bird      62.0      5.0       5.0   \n",
       "\n",
       "  sumDestroyed  sumSlaughtered  humansGenderDesc  humansAge  humansAffected  \\\n",
       "0      50000.0             0.0               NaN        0.0             NaN   \n",
       "1          0.0             0.0               NaN        NaN             NaN   \n",
       "2          NaN             7.0               NaN        NaN             NaN   \n",
       "3          0.0             0.0               NaN        0.0             NaN   \n",
       "4          NaN             NaN               NaN        NaN             NaN   \n",
       "5          NaN             NaN               NaN        NaN             NaN   \n",
       "6          0.0             0.0               NaN        0.0             NaN   \n",
       "7          0.0             0.0               NaN        NaN             NaN   \n",
       "8       4000.0             0.0               NaN        NaN             NaN   \n",
       "9          0.0             0.0               NaN        NaN             NaN   \n",
       "\n",
       "   humansDeaths  \n",
       "0           NaN  \n",
       "1           NaN  \n",
       "2           NaN  \n",
       "3           NaN  \n",
       "4           NaN  \n",
       "5           NaN  \n",
       "6           NaN  \n",
       "7           NaN  \n",
       "8           NaN  \n",
       "9           NaN  \n",
       "\n",
       "[10 rows x 24 columns]"
      ]
     },
     "execution_count": 4,
     "metadata": {},
     "output_type": "execute_result"
    }
   ],
   "source": [
    "# Xem ví dụ 10 dòng dữ liệu:\n",
    "data.head(10)"
   ]
  },
  {
   "cell_type": "markdown",
   "metadata": {},
   "source": [
    "### Một vài điểm về dữ liệu:\n",
    "\n",
    "Đây là dữ liệu ghi nhận về các trường hợp bị mắc các bệnh từ động vật trong 2 năm như bệnh cúm từ chim, gà...Dữ liệu có bao gồm thông tin:\n",
    "\n",
    "- Vùng phát sinh bệnh: kinh độ, vĩ đồ, quốc gia, châu lục (longitude, latitude, region, country, admin1, localityName, localityQuality); \n",
    "\n",
    "- Thông tin về thời gian phát sinh bệnh(observationDate, reportingDate); \n",
    "\n",
    "- Mô tả về bệnh (status, disease, serotypes, speciesDescription, sumAtRisk, sumCases, sumDeaths, sumDestroyed, sumSlaughtered ); và \n",
    "\n",
    "- Thông tin về người bị lây nhiễm bệnh (humansGenderDesc, humansAge, humansAffected, humansDeaths).\n",
    "\n",
    "Chúng ta sẽ đi vào các bước chi tiết đã liệt kê ở phía trên dựa vào một số điểm cơ bản về dữ liệu ở đây.\n",
    "\n",
    "## Bước 1 - Lấy dữ liệu phân loại và chuyển dữ liệu về dạng one-hot encoding:\n",
    "\n",
    "Có thể thấy, dữ liệu về người bị nhiễm bệnh sẽ cho ta biết được dữ liệu phân loại cho các dịch bệnh như thế nào. Ở đây, chúng ta có 4 trường thông tin là: humansGenderDesc, humansAge, humansAffected, humansDeaths; trong đó trường humansAffected cho biết người có bị nhiễm bệnh hay không. "
   ]
  },
  {
   "cell_type": "code",
   "execution_count": 5,
   "metadata": {},
   "outputs": [
    {
     "data": {
      "text/html": [
       "<div>\n",
       "<style scoped>\n",
       "    .dataframe tbody tr th:only-of-type {\n",
       "        vertical-align: middle;\n",
       "    }\n",
       "\n",
       "    .dataframe tbody tr th {\n",
       "        vertical-align: top;\n",
       "    }\n",
       "\n",
       "    .dataframe thead th {\n",
       "        text-align: right;\n",
       "    }\n",
       "</style>\n",
       "<table border=\"1\" class=\"dataframe\">\n",
       "  <thead>\n",
       "    <tr style=\"text-align: right;\">\n",
       "      <th></th>\n",
       "      <th>humansAge</th>\n",
       "      <th>humansAffected</th>\n",
       "      <th>humansDeaths</th>\n",
       "    </tr>\n",
       "  </thead>\n",
       "  <tbody>\n",
       "    <tr>\n",
       "      <th>count</th>\n",
       "      <td>1068.000000</td>\n",
       "      <td>1417.000000</td>\n",
       "      <td>451.000000</td>\n",
       "    </tr>\n",
       "    <tr>\n",
       "      <th>mean</th>\n",
       "      <td>17.701311</td>\n",
       "      <td>1.017643</td>\n",
       "      <td>0.889135</td>\n",
       "    </tr>\n",
       "    <tr>\n",
       "      <th>std</th>\n",
       "      <td>26.932867</td>\n",
       "      <td>0.620142</td>\n",
       "      <td>0.321306</td>\n",
       "    </tr>\n",
       "    <tr>\n",
       "      <th>min</th>\n",
       "      <td>0.000000</td>\n",
       "      <td>0.000000</td>\n",
       "      <td>0.000000</td>\n",
       "    </tr>\n",
       "    <tr>\n",
       "      <th>25%</th>\n",
       "      <td>0.000000</td>\n",
       "      <td>1.000000</td>\n",
       "      <td>1.000000</td>\n",
       "    </tr>\n",
       "    <tr>\n",
       "      <th>50%</th>\n",
       "      <td>0.000000</td>\n",
       "      <td>1.000000</td>\n",
       "      <td>1.000000</td>\n",
       "    </tr>\n",
       "    <tr>\n",
       "      <th>75%</th>\n",
       "      <td>41.000000</td>\n",
       "      <td>1.000000</td>\n",
       "      <td>1.000000</td>\n",
       "    </tr>\n",
       "    <tr>\n",
       "      <th>max</th>\n",
       "      <td>94.000000</td>\n",
       "      <td>24.000000</td>\n",
       "      <td>2.000000</td>\n",
       "    </tr>\n",
       "  </tbody>\n",
       "</table>\n",
       "</div>"
      ],
      "text/plain": [
       "         humansAge  humansAffected  humansDeaths\n",
       "count  1068.000000     1417.000000    451.000000\n",
       "mean     17.701311        1.017643      0.889135\n",
       "std      26.932867        0.620142      0.321306\n",
       "min       0.000000        0.000000      0.000000\n",
       "25%       0.000000        1.000000      1.000000\n",
       "50%       0.000000        1.000000      1.000000\n",
       "75%      41.000000        1.000000      1.000000\n",
       "max      94.000000       24.000000      2.000000"
      ]
     },
     "execution_count": 5,
     "metadata": {},
     "output_type": "execute_result"
    }
   ],
   "source": [
    "# Kiểm tra thông tin cơ bản:\n",
    "data[([\"humansAge\", \"humansAffected\", \"humansDeaths\"])].describe()"
   ]
  },
  {
   "cell_type": "code",
   "execution_count": 6,
   "metadata": {},
   "outputs": [
    {
     "data": {
      "text/plain": [
       "Male      276\n",
       "Female     84\n",
       "Name: humansGenderDesc, dtype: int64"
      ]
     },
     "execution_count": 6,
     "metadata": {},
     "output_type": "execute_result"
    }
   ],
   "source": [
    "data[\"humansGenderDesc\"].value_counts()"
   ]
  },
  {
   "cell_type": "markdown",
   "metadata": {},
   "source": [
    "Đối với dữ liệu ở đây, chúng ta chỉ quan tâm đến việc con người có bị lây nhiễm bệnh hay không, nên chỉ sử dụng trường humansAffected làm trường phân loại (label/target)"
   ]
  },
  {
   "cell_type": "code",
   "execution_count": 7,
   "metadata": {},
   "outputs": [
    {
     "data": {
      "text/plain": [
       "1.0     1411\n",
       "0.0        3\n",
       "24.0       1\n",
       "3.0        1\n",
       "4.0        1\n",
       "Name: humansAffected, dtype: int64"
      ]
     },
     "execution_count": 7,
     "metadata": {},
     "output_type": "execute_result"
    }
   ],
   "source": [
    "label = data[\"humansAffected\"]\n",
    "label.value_counts()"
   ]
  },
  {
   "cell_type": "markdown",
   "metadata": {},
   "source": [
    "Với dữ liệu label, chỉ có tổng số 1417/17008 bản ghi có dữ liệu, còn lại là dữ liệu bị trống. Các giá trị của dự liệu bao gồm: 0, 1, 3, 4, 24: đây là các giá trị thể hiện con người bị nhiễm bệnh, trong khi đó, giá trị bị trống thể hiện con người không bị nhiễm bênh. Vậy, trước khi biến đổi dữ liệu này sang dạng one-hot encoding, chúng ta gán lại các giá trị 0, 1, 3, 4, 24 thành True (nhiễm bệnh) - hoặc 1; còn NA thành False - hoặc 0 (không nhiễm bệnh)."
   ]
  },
  {
   "cell_type": "code",
   "execution_count": 8,
   "metadata": {},
   "outputs": [
    {
     "data": {
      "text/plain": [
       "False    15591\n",
       "True      1417\n",
       "Name: humansAffected, dtype: int64"
      ]
     },
     "execution_count": 8,
     "metadata": {},
     "output_type": "execute_result"
    }
   ],
   "source": [
    "# Gán lại dữ liệu:\n",
    "label = label.replace({1.0: True, 0.0: True, 24.0: True, 3.0: True, 4.0: True, np.nan: False})\n",
    "label.value_counts()"
   ]
  },
  {
   "cell_type": "code",
   "execution_count": 9,
   "metadata": {},
   "outputs": [],
   "source": [
    "# Biến đổi lại shape của dữ liệu phân loại:\n",
    "label = np.asarray(label).reshape(-1, 1)"
   ]
  },
  {
   "cell_type": "markdown",
   "metadata": {},
   "source": [
    "## Bước 2, 3: tạo các  biến độc lập & làm sạch dữ liệu\n",
    "\n",
    "*Lưu ý*: do dữ liệu về bệnh bao gồm cả dữ liệu dạng số và dữ liệu dạng sắp xếp, và do tính chất khác nhau nên cách xử lý 2 loại dữ liệu này cũng hoàn toàn khác nhau. Để việc xử lý được đơn giản và dễ dàng, chúng ta sẽ tách 2 loại dữ liệu này riêng ra trong quá trình tạo biến độc lập để xử lý, sau khi xử lý xong thì có thể sát nhập lại (merge) để được bộ biến độc lập cần thiết.\n",
    "\n",
    "\n",
    "### Tạo các biến số:\n",
    "\n",
    "Trong dữ liệu về bệnh có một số trường thông tin có thể sử dụng được và là dữ liệu dạng số, bao gồm: sumAtRisk, sumCases, sumDeaths, sumDestroyed, sumSlaughtered. Ta sẽ nhóm các biến độc lập này trong 1 bảng dữ liệu riêng."
   ]
  },
  {
   "cell_type": "code",
   "execution_count": 10,
   "metadata": {},
   "outputs": [
    {
     "data": {
      "text/html": [
       "<div>\n",
       "<style scoped>\n",
       "    .dataframe tbody tr th:only-of-type {\n",
       "        vertical-align: middle;\n",
       "    }\n",
       "\n",
       "    .dataframe tbody tr th {\n",
       "        vertical-align: top;\n",
       "    }\n",
       "\n",
       "    .dataframe thead th {\n",
       "        text-align: right;\n",
       "    }\n",
       "</style>\n",
       "<table border=\"1\" class=\"dataframe\">\n",
       "  <thead>\n",
       "    <tr style=\"text-align: right;\">\n",
       "      <th></th>\n",
       "      <th>sumAtRisk</th>\n",
       "      <th>sumCases</th>\n",
       "      <th>sumDeaths</th>\n",
       "      <th>sumDestroyed</th>\n",
       "      <th>sumSlaughtered</th>\n",
       "    </tr>\n",
       "  </thead>\n",
       "  <tbody>\n",
       "    <tr>\n",
       "      <th>0</th>\n",
       "      <td>248000.0</td>\n",
       "      <td>12.0</td>\n",
       "      <td>12.0</td>\n",
       "      <td>50000.0</td>\n",
       "      <td>0.0</td>\n",
       "    </tr>\n",
       "    <tr>\n",
       "      <th>1</th>\n",
       "      <td>122.0</td>\n",
       "      <td>6.0</td>\n",
       "      <td>1.0</td>\n",
       "      <td>0.0</td>\n",
       "      <td>0.0</td>\n",
       "    </tr>\n",
       "    <tr>\n",
       "      <th>2</th>\n",
       "      <td>1283.0</td>\n",
       "      <td>112.0</td>\n",
       "      <td>0.0</td>\n",
       "      <td>NaN</td>\n",
       "      <td>7.0</td>\n",
       "    </tr>\n",
       "    <tr>\n",
       "      <th>3</th>\n",
       "      <td>NaN</td>\n",
       "      <td>1.0</td>\n",
       "      <td>1.0</td>\n",
       "      <td>0.0</td>\n",
       "      <td>0.0</td>\n",
       "    </tr>\n",
       "    <tr>\n",
       "      <th>4</th>\n",
       "      <td>NaN</td>\n",
       "      <td>1.0</td>\n",
       "      <td>1.0</td>\n",
       "      <td>NaN</td>\n",
       "      <td>NaN</td>\n",
       "    </tr>\n",
       "  </tbody>\n",
       "</table>\n",
       "</div>"
      ],
      "text/plain": [
       "   sumAtRisk  sumCases  sumDeaths  sumDestroyed  sumSlaughtered\n",
       "0   248000.0      12.0       12.0       50000.0             0.0\n",
       "1      122.0       6.0        1.0           0.0             0.0\n",
       "2     1283.0     112.0        0.0           NaN             7.0\n",
       "3        NaN       1.0        1.0           0.0             0.0\n",
       "4        NaN       1.0        1.0           NaN             NaN"
      ]
     },
     "execution_count": 10,
     "metadata": {},
     "output_type": "execute_result"
    }
   ],
   "source": [
    "data_num = data[([\"sumAtRisk\", \"sumCases\", \"sumDeaths\", \"sumDestroyed\", \"sumSlaughtered\"])]\n",
    "data_num.head()"
   ]
  },
  {
   "cell_type": "code",
   "execution_count": 11,
   "metadata": {},
   "outputs": [
    {
     "data": {
      "text/html": [
       "<div>\n",
       "<style scoped>\n",
       "    .dataframe tbody tr th:only-of-type {\n",
       "        vertical-align: middle;\n",
       "    }\n",
       "\n",
       "    .dataframe tbody tr th {\n",
       "        vertical-align: top;\n",
       "    }\n",
       "\n",
       "    .dataframe thead th {\n",
       "        text-align: right;\n",
       "    }\n",
       "</style>\n",
       "<table border=\"1\" class=\"dataframe\">\n",
       "  <thead>\n",
       "    <tr style=\"text-align: right;\">\n",
       "      <th></th>\n",
       "      <th>sumAtRisk</th>\n",
       "      <th>sumCases</th>\n",
       "      <th>sumDeaths</th>\n",
       "      <th>sumDestroyed</th>\n",
       "      <th>sumSlaughtered</th>\n",
       "    </tr>\n",
       "  </thead>\n",
       "  <tbody>\n",
       "    <tr>\n",
       "      <th>count</th>\n",
       "      <td>9.757000e+03</td>\n",
       "      <td>14535.000000</td>\n",
       "      <td>14168.000000</td>\n",
       "      <td>13005.000000</td>\n",
       "      <td>12235.000000</td>\n",
       "    </tr>\n",
       "    <tr>\n",
       "      <th>mean</th>\n",
       "      <td>7.500692e+03</td>\n",
       "      <td>328.183007</td>\n",
       "      <td>199.190147</td>\n",
       "      <td>3765.857978</td>\n",
       "      <td>100.211443</td>\n",
       "    </tr>\n",
       "    <tr>\n",
       "      <th>std</th>\n",
       "      <td>4.427669e+04</td>\n",
       "      <td>5821.929892</td>\n",
       "      <td>4109.453986</td>\n",
       "      <td>28355.192298</td>\n",
       "      <td>4341.287763</td>\n",
       "    </tr>\n",
       "    <tr>\n",
       "      <th>min</th>\n",
       "      <td>0.000000e+00</td>\n",
       "      <td>0.000000</td>\n",
       "      <td>0.000000</td>\n",
       "      <td>0.000000</td>\n",
       "      <td>0.000000</td>\n",
       "    </tr>\n",
       "    <tr>\n",
       "      <th>25%</th>\n",
       "      <td>1.100000e+01</td>\n",
       "      <td>1.000000</td>\n",
       "      <td>0.000000</td>\n",
       "      <td>0.000000</td>\n",
       "      <td>0.000000</td>\n",
       "    </tr>\n",
       "    <tr>\n",
       "      <th>50%</th>\n",
       "      <td>9.000000e+01</td>\n",
       "      <td>1.000000</td>\n",
       "      <td>1.000000</td>\n",
       "      <td>0.000000</td>\n",
       "      <td>0.000000</td>\n",
       "    </tr>\n",
       "    <tr>\n",
       "      <th>75%</th>\n",
       "      <td>7.160000e+02</td>\n",
       "      <td>5.000000</td>\n",
       "      <td>2.000000</td>\n",
       "      <td>5.000000</td>\n",
       "      <td>0.000000</td>\n",
       "    </tr>\n",
       "    <tr>\n",
       "      <th>max</th>\n",
       "      <td>2.000000e+06</td>\n",
       "      <td>460000.000000</td>\n",
       "      <td>439799.000000</td>\n",
       "      <td>913590.000000</td>\n",
       "      <td>339006.000000</td>\n",
       "    </tr>\n",
       "  </tbody>\n",
       "</table>\n",
       "</div>"
      ],
      "text/plain": [
       "          sumAtRisk       sumCases      sumDeaths   sumDestroyed  \\\n",
       "count  9.757000e+03   14535.000000   14168.000000   13005.000000   \n",
       "mean   7.500692e+03     328.183007     199.190147    3765.857978   \n",
       "std    4.427669e+04    5821.929892    4109.453986   28355.192298   \n",
       "min    0.000000e+00       0.000000       0.000000       0.000000   \n",
       "25%    1.100000e+01       1.000000       0.000000       0.000000   \n",
       "50%    9.000000e+01       1.000000       1.000000       0.000000   \n",
       "75%    7.160000e+02       5.000000       2.000000       5.000000   \n",
       "max    2.000000e+06  460000.000000  439799.000000  913590.000000   \n",
       "\n",
       "       sumSlaughtered  \n",
       "count    12235.000000  \n",
       "mean       100.211443  \n",
       "std       4341.287763  \n",
       "min          0.000000  \n",
       "25%          0.000000  \n",
       "50%          0.000000  \n",
       "75%          0.000000  \n",
       "max     339006.000000  "
      ]
     },
     "execution_count": 11,
     "metadata": {},
     "output_type": "execute_result"
    }
   ],
   "source": [
    "data_num.describe()"
   ]
  },
  {
   "cell_type": "markdown",
   "metadata": {},
   "source": [
    "### Tạo biến sắp xếp:\n",
    "\n",
    "Các biến mà ta có thể sử dụng làm biến độc lập với dạng dữ liệu sắp xếp như: country (các thông tin về vị trí khác khá tương đồng với country nên có thể loại bỏ); speciesDescription (thông tin về mầm bệnh, nguyên nhân có thể sử dụng trường dữ liệu này). Chúng ta cùng nhìn qua 2 trường dữ liệu này:"
   ]
  },
  {
   "cell_type": "code",
   "execution_count": 12,
   "metadata": {
    "scrolled": true
   },
   "outputs": [
    {
     "data": {
      "text/plain": [
       "France                                       2721\n",
       "China                                        1465\n",
       "Estonia                                       927\n",
       "Albania                                       858\n",
       "Russian Federation                            795\n",
       "Latvia                                        742\n",
       "Serbia                                        662\n",
       "Saudi Arabia                                  653\n",
       "Lithuania                                     622\n",
       "Republic of Korea                             508\n",
       "Italy                                         486\n",
       "Poland                                        455\n",
       "Indonesia                                     425\n",
       "Egypt                                         411\n",
       "Nigeria                                       352\n",
       "Hungary                                       332\n",
       "Germany                                       322\n",
       "Bulgaria                                      305\n",
       "Taiwan (Province of China)                    269\n",
       "Greece                                        255\n",
       "Ukraine                                       211\n",
       "The former Yugoslav Republic of Macedonia     192\n",
       "Israel                                        188\n",
       "Japan                                         183\n",
       "Romania                                       182\n",
       "Czech Republic                                157\n",
       "Mongolia                                      150\n",
       "Montenegro                                    143\n",
       "Cyprus                                        140\n",
       "Bosnia and Herzegovina                        136\n",
       "                                             ... \n",
       "Mozambique                                      3\n",
       "Chile                                           3\n",
       "Uruguay                                         3\n",
       "Togo                                            3\n",
       "Lebanon                                         3\n",
       "Canada                                          3\n",
       "Mali                                            3\n",
       "Kenya                                           3\n",
       "Panama                                          3\n",
       "Thailand                                        2\n",
       "Oman                                            2\n",
       "Senegal                                         2\n",
       "Guinea-Bissau                                   2\n",
       "Malawi                                          2\n",
       "Lao People's Democratic Republic                2\n",
       "Armenia                                         2\n",
       "Libya                                           2\n",
       "Syrian Arab Republic                            2\n",
       "United Republic of Tanzania                     2\n",
       "Benin                                           1\n",
       "Cape Verde                                      1\n",
       "Philippines                                     1\n",
       "Gambia                                          1\n",
       "El Salvador                                     1\n",
       "Maldives                                        1\n",
       "Kyrgyzstan                                      1\n",
       "Argentina                                       1\n",
       "French Guiana                                   1\n",
       "Bhutan                                          1\n",
       "Bahrain                                         1\n",
       "Name: country, Length: 122, dtype: int64"
      ]
     },
     "execution_count": 12,
     "metadata": {},
     "output_type": "execute_result"
    }
   ],
   "source": [
    "data[\"country\"].value_counts(dropna=False)"
   ]
  },
  {
   "cell_type": "markdown",
   "metadata": {},
   "source": [
    "Như vậy trường country chỉ lưu dữ liệu là tên các quốc gia phát sinh bệnh"
   ]
  },
  {
   "cell_type": "code",
   "execution_count": 13,
   "metadata": {
    "scrolled": true
   },
   "outputs": [
    {
     "data": {
      "text/plain": [
       "domestic, cattle                                                                                                                         4913\n",
       "wild, wild boar                                                                                                                          2670\n",
       "domestic, chicken                                                                                                                        1682\n",
       "domestic, duck                                                                                                                           1227\n",
       "domestic, unspecified bird                                                                                                                808\n",
       "domestic, sheep                                                                                                                           684\n",
       "domestic, swine                                                                                                                           675\n",
       "wild,mute swan (cygnus olor))                                                                                                             311\n",
       "domestic, cattle, domestic, sheep                                                                                                         243\n",
       "domestic, turkey                                                                                                                          152\n",
       "domestic, goose                                                                                                                           128\n",
       "wild, unspecified bird                                                                                                                    100\n",
       "wild, whooper swan                                                                                                                         98\n",
       "domestic, goat/sheep                                                                                                                       98\n",
       "environmental sample, unspecified bird                                                                                                     77\n",
       "domestic, horse                                                                                                                            73\n",
       "wild, tufted duck                                                                                                                          56\n",
       "wild, unspecified mammal                                                                                                                   49\n",
       "wild, wild duck                                                                                                                            48\n",
       "environmental sample, unspecified env. sample                                                                                              47\n",
       "wild, swan                                                                                                                                 43\n",
       "domestic, chicken, domestic, duck                                                                                                          42\n",
       "wild, mallard                                                                                                                              41\n",
       "domestic, ostrich                                                                                                                          41\n",
       "wild, anatidae                                                                                                                             40\n",
       "domestic, goat, domestic, sheep                                                                                                            37\n",
       "wild, buzzard                                                                                                                              34\n",
       "domestic, muscovy ducks                                                                                                                    32\n",
       "domestic, chicken, domestic, duck, domestic, unspecified bird                                                                              31\n",
       "domestic, equidae                                                                                                                          29\n",
       "                                                                                                                                         ... \n",
       "wild, crane                                                                                                                                 1\n",
       "environmental sample, unspecified env. sample, domestic, chicken, domestic, duck                                                            1\n",
       "wild,common coot,wild,eurasian wigeon (anas penelope))                                                                                      1\n",
       "domestic, chicken, domestic, goose, domestic, duck, domestic, turkey, domestic, pigeon                                                      1\n",
       "wild, mallard, wild, common pochard                                                                                                         1\n",
       "wild,great black-backed gull (larus marinus), wild, mute swan  (cygnus olor))                                                               1\n",
       "wild, unspecified bird, domestic, duck, domestic, chicken                                                                                   1\n",
       "wild, common pochard, wild, gull, wild, tufted duck                                                                                         1\n",
       "wild, great egret                                                                                                                           1\n",
       "domestic, duck, domestic, duck, domestic, goose                                                                                             1\n",
       "wild,eurasian wigeon (anas penelope), wild, greylag goose, wild, canada goose (branta canadensis), wild, greater white-fronted goose)       1\n",
       "wild, gull, wild, common coot, wild, tufted duck                                                                                            1\n",
       "wild,herring gull,wild,common eider (somateria mollissima))                                                                                 1\n",
       "wild,eurasian wigeon (anas penelope), wild, mute swan  (cygnus olor))                                                                       1\n",
       "domestic, turkey, domestic, goose, domestic, duck                                                                                           1\n",
       "domestic, duck, domestic, goose, domestic, unspecified bird                                                                                 1\n",
       "wild, starling                                                                                                                              1\n",
       "domestic, unspecified bird, domestic, chicken, domestic, pigeon                                                                             1\n",
       "wild, black headed gull, wild, common coot, wild, wild duck                                                                                 1\n",
       "captive, pheasant, captive, unspecified bird                                                                                                1\n",
       "domestic, duck, environmental sample, unspecified bird                                                                                      1\n",
       "wild, greylag goose, wild, tufted duck                                                                                                      1\n",
       "wild, accipiter gentilis                                                                                                                    1\n",
       "wild,swan,wild,accipitridae (accipitridae))                                                                                                 1\n",
       "wild,gull,wild,mute swan (cygnus olor), wild, mew gull (larus canus), wild, tufted duck)                                                    1\n",
       "wild, northern pintail                                                                                                                      1\n",
       "wild,egyptian goose (alopochen aegyptiacus))                                                                                                1\n",
       "domestic, cattle, domestic, goat/sheep , domestic, swine                                                                                    1\n",
       "domestic, chicken, domestic, chicken                                                                                                        1\n",
       "wild, tufted duck, wild, gull                                                                                                               1\n",
       "Name: speciesDescription, Length: 288, dtype: int64"
      ]
     },
     "execution_count": 13,
     "metadata": {},
     "output_type": "execute_result"
    }
   ],
   "source": [
    "data[\"speciesDescription\"].value_counts()"
   ]
  },
  {
   "cell_type": "markdown",
   "metadata": {},
   "source": [
    "Trường speciesDescription cho biết mầm bệnh xuất phát từ loại động vật nào, và động vật là thú nuôi (domestic) hay hoang dã (wild). Trường thông tin này chứa khá nhiều thông tin và cần xử lý nhiều để được dạng dữ liệu mong muốn. Nên chúng ta có thể xử lý trường country trước."
   ]
  },
  {
   "cell_type": "code",
   "execution_count": 14,
   "metadata": {},
   "outputs": [
    {
     "data": {
      "text/html": [
       "<div>\n",
       "<style scoped>\n",
       "    .dataframe tbody tr th:only-of-type {\n",
       "        vertical-align: middle;\n",
       "    }\n",
       "\n",
       "    .dataframe tbody tr th {\n",
       "        vertical-align: top;\n",
       "    }\n",
       "\n",
       "    .dataframe thead th {\n",
       "        text-align: right;\n",
       "    }\n",
       "</style>\n",
       "<table border=\"1\" class=\"dataframe\">\n",
       "  <thead>\n",
       "    <tr style=\"text-align: right;\">\n",
       "      <th></th>\n",
       "      <th>Albania</th>\n",
       "      <th>Algeria</th>\n",
       "      <th>Angola</th>\n",
       "      <th>Argentina</th>\n",
       "      <th>Armenia</th>\n",
       "      <th>Austria</th>\n",
       "      <th>Bahrain</th>\n",
       "      <th>Bangladesh</th>\n",
       "      <th>Belgium</th>\n",
       "      <th>Belize</th>\n",
       "      <th>...</th>\n",
       "      <th>Uganda</th>\n",
       "      <th>Ukraine</th>\n",
       "      <th>United Arab Emirates</th>\n",
       "      <th>United Republic of Tanzania</th>\n",
       "      <th>United States of America</th>\n",
       "      <th>Uruguay</th>\n",
       "      <th>Viet Nam</th>\n",
       "      <th>West Bank</th>\n",
       "      <th>Zambia</th>\n",
       "      <th>Zimbabwe</th>\n",
       "    </tr>\n",
       "  </thead>\n",
       "  <tbody>\n",
       "    <tr>\n",
       "      <th>0</th>\n",
       "      <td>0</td>\n",
       "      <td>0</td>\n",
       "      <td>0</td>\n",
       "      <td>0</td>\n",
       "      <td>0</td>\n",
       "      <td>0</td>\n",
       "      <td>0</td>\n",
       "      <td>0</td>\n",
       "      <td>0</td>\n",
       "      <td>0</td>\n",
       "      <td>...</td>\n",
       "      <td>0</td>\n",
       "      <td>0</td>\n",
       "      <td>0</td>\n",
       "      <td>0</td>\n",
       "      <td>0</td>\n",
       "      <td>0</td>\n",
       "      <td>0</td>\n",
       "      <td>0</td>\n",
       "      <td>0</td>\n",
       "      <td>0</td>\n",
       "    </tr>\n",
       "    <tr>\n",
       "      <th>1</th>\n",
       "      <td>0</td>\n",
       "      <td>0</td>\n",
       "      <td>0</td>\n",
       "      <td>0</td>\n",
       "      <td>0</td>\n",
       "      <td>0</td>\n",
       "      <td>0</td>\n",
       "      <td>0</td>\n",
       "      <td>0</td>\n",
       "      <td>0</td>\n",
       "      <td>...</td>\n",
       "      <td>0</td>\n",
       "      <td>0</td>\n",
       "      <td>0</td>\n",
       "      <td>0</td>\n",
       "      <td>0</td>\n",
       "      <td>0</td>\n",
       "      <td>0</td>\n",
       "      <td>0</td>\n",
       "      <td>0</td>\n",
       "      <td>0</td>\n",
       "    </tr>\n",
       "    <tr>\n",
       "      <th>2</th>\n",
       "      <td>0</td>\n",
       "      <td>0</td>\n",
       "      <td>0</td>\n",
       "      <td>0</td>\n",
       "      <td>0</td>\n",
       "      <td>0</td>\n",
       "      <td>0</td>\n",
       "      <td>0</td>\n",
       "      <td>0</td>\n",
       "      <td>0</td>\n",
       "      <td>...</td>\n",
       "      <td>0</td>\n",
       "      <td>0</td>\n",
       "      <td>0</td>\n",
       "      <td>0</td>\n",
       "      <td>0</td>\n",
       "      <td>0</td>\n",
       "      <td>0</td>\n",
       "      <td>0</td>\n",
       "      <td>0</td>\n",
       "      <td>1</td>\n",
       "    </tr>\n",
       "    <tr>\n",
       "      <th>3</th>\n",
       "      <td>0</td>\n",
       "      <td>0</td>\n",
       "      <td>0</td>\n",
       "      <td>0</td>\n",
       "      <td>0</td>\n",
       "      <td>0</td>\n",
       "      <td>0</td>\n",
       "      <td>0</td>\n",
       "      <td>0</td>\n",
       "      <td>0</td>\n",
       "      <td>...</td>\n",
       "      <td>0</td>\n",
       "      <td>0</td>\n",
       "      <td>0</td>\n",
       "      <td>0</td>\n",
       "      <td>0</td>\n",
       "      <td>0</td>\n",
       "      <td>0</td>\n",
       "      <td>0</td>\n",
       "      <td>0</td>\n",
       "      <td>0</td>\n",
       "    </tr>\n",
       "    <tr>\n",
       "      <th>4</th>\n",
       "      <td>0</td>\n",
       "      <td>0</td>\n",
       "      <td>0</td>\n",
       "      <td>0</td>\n",
       "      <td>0</td>\n",
       "      <td>0</td>\n",
       "      <td>0</td>\n",
       "      <td>0</td>\n",
       "      <td>0</td>\n",
       "      <td>0</td>\n",
       "      <td>...</td>\n",
       "      <td>0</td>\n",
       "      <td>0</td>\n",
       "      <td>0</td>\n",
       "      <td>0</td>\n",
       "      <td>0</td>\n",
       "      <td>0</td>\n",
       "      <td>0</td>\n",
       "      <td>0</td>\n",
       "      <td>0</td>\n",
       "      <td>0</td>\n",
       "    </tr>\n",
       "  </tbody>\n",
       "</table>\n",
       "<p>5 rows × 122 columns</p>\n",
       "</div>"
      ],
      "text/plain": [
       "   Albania  Algeria  Angola  Argentina  Armenia  Austria  Bahrain  Bangladesh  \\\n",
       "0        0        0       0          0        0        0        0           0   \n",
       "1        0        0       0          0        0        0        0           0   \n",
       "2        0        0       0          0        0        0        0           0   \n",
       "3        0        0       0          0        0        0        0           0   \n",
       "4        0        0       0          0        0        0        0           0   \n",
       "\n",
       "   Belgium  Belize    ...     Uganda  Ukraine  United Arab Emirates  \\\n",
       "0        0       0    ...          0        0                     0   \n",
       "1        0       0    ...          0        0                     0   \n",
       "2        0       0    ...          0        0                     0   \n",
       "3        0       0    ...          0        0                     0   \n",
       "4        0       0    ...          0        0                     0   \n",
       "\n",
       "   United Republic of Tanzania  United States of America  Uruguay  Viet Nam  \\\n",
       "0                            0                         0        0         0   \n",
       "1                            0                         0        0         0   \n",
       "2                            0                         0        0         0   \n",
       "3                            0                         0        0         0   \n",
       "4                            0                         0        0         0   \n",
       "\n",
       "   West Bank  Zambia  Zimbabwe  \n",
       "0          0       0         0  \n",
       "1          0       0         0  \n",
       "2          0       0         1  \n",
       "3          0       0         0  \n",
       "4          0       0         0  \n",
       "\n",
       "[5 rows x 122 columns]"
      ]
     },
     "execution_count": 14,
     "metadata": {},
     "output_type": "execute_result"
    }
   ],
   "source": [
    "# Xử lý dữ liệu về quốc gia:\n",
    "country = data[\"country\"]\n",
    "# Biến đổi dữ liệu thành dạng one-hot encoding:\n",
    "country_dump = pd.get_dummies(country)\n",
    "country_dump.head()"
   ]
  },
  {
   "cell_type": "markdown",
   "metadata": {},
   "source": [
    "Như vậy trường country được kéo ra thành dạng cột, với các quốc gia nào có phát sinh bệnh sẽ được đánh giá trị 1, còn không sẽ được đánh giá trị 0. Dữ liệu này tạm thời thỏa mãn yêu cầu của chúng ta.\n",
    "\n",
    "Giờ ta chuyển sang trường dữ liệu **speciesDescription**"
   ]
  },
  {
   "cell_type": "code",
   "execution_count": 15,
   "metadata": {},
   "outputs": [
    {
     "data": {
      "text/plain": [
       "0    domestic, unspecified bird\n",
       "1               domestic, swine\n",
       "2              domestic, cattle\n",
       "3        wild, unspecified bird\n",
       "4               wild, wild boar\n",
       "Name: speciesDescription, dtype: object"
      ]
     },
     "execution_count": 15,
     "metadata": {},
     "output_type": "execute_result"
    }
   ],
   "source": [
    "speciesDescription = data.speciesDescription\n",
    "speciesDescription.head()"
   ]
  },
  {
   "cell_type": "code",
   "execution_count": 16,
   "metadata": {},
   "outputs": [
    {
     "data": {
      "text/plain": [
       "domestic         11230\n",
       "wild              3979\n",
       "NaN               1648\n",
       "environmental      129\n",
       "captive             22\n",
       "Name: speciesDescription, dtype: int64"
      ]
     },
     "execution_count": 16,
     "metadata": {},
     "output_type": "execute_result"
    }
   ],
   "source": [
    "# Kiểm tra từ đầu tiên của mô tả:\n",
    "speciesDescription.str.extract(r'(^\\w+)', expand=False).value_counts(dropna=False)"
   ]
  },
  {
   "cell_type": "markdown",
   "metadata": {},
   "source": [
    "Phần lớn thông tin về động vật là vật nuôi (domestic), phần còn lại là động vật hoang dã, bị bắt hoặc trong khuôn viên, môi trường nhân tạo, được quy hoạch. Ngoài ra, 1 lượng không nhỏ thông tin mầm bệnh không được ghi nhận (NaN).\n",
    "\n",
    "Nhưng chúng ta vừa đề cập ử trên, thông tin về động vật lây nhiễm bệnh và loại động vật được ghi nhận trong trường dữ liệu này. Chúng ta có thể đoán được vật nuôi (gia súc, gia cầm) - domestic có khả năng lây nhiễm bệnh  cao hơn so với động vật hoang dã (wild), do đó, chúng ta có thể tạo ra một biến mới, thể hiện động vật là vật nuôi hay hoang dã"
   ]
  },
  {
   "cell_type": "code",
   "execution_count": 17,
   "metadata": {},
   "outputs": [
    {
     "name": "stderr",
     "output_type": "stream",
     "text": [
      "/home/ddpham/anaconda3/envs/ML/lib/python3.6/site-packages/ipykernel_launcher.py:2: SettingWithCopyWarning: \n",
      "A value is trying to be set on a copy of a slice from a DataFrame.\n",
      "Try using .loc[row_indexer,col_indexer] = value instead\n",
      "\n",
      "See the caveats in the documentation: http://pandas.pydata.org/pandas-docs/stable/indexing.html#indexing-view-versus-copy\n",
      "  \n"
     ]
    },
    {
     "data": {
      "text/html": [
       "<div>\n",
       "<style scoped>\n",
       "    .dataframe tbody tr th:only-of-type {\n",
       "        vertical-align: middle;\n",
       "    }\n",
       "\n",
       "    .dataframe tbody tr th {\n",
       "        vertical-align: top;\n",
       "    }\n",
       "\n",
       "    .dataframe thead th {\n",
       "        text-align: right;\n",
       "    }\n",
       "</style>\n",
       "<table border=\"1\" class=\"dataframe\">\n",
       "  <thead>\n",
       "    <tr style=\"text-align: right;\">\n",
       "      <th></th>\n",
       "      <th>sumAtRisk</th>\n",
       "      <th>sumCases</th>\n",
       "      <th>sumDeaths</th>\n",
       "      <th>sumDestroyed</th>\n",
       "      <th>sumSlaughtered</th>\n",
       "      <th>isdomestic</th>\n",
       "    </tr>\n",
       "  </thead>\n",
       "  <tbody>\n",
       "    <tr>\n",
       "      <th>0</th>\n",
       "      <td>248000.0</td>\n",
       "      <td>12.0</td>\n",
       "      <td>12.0</td>\n",
       "      <td>50000.0</td>\n",
       "      <td>0.0</td>\n",
       "      <td>True</td>\n",
       "    </tr>\n",
       "    <tr>\n",
       "      <th>1</th>\n",
       "      <td>122.0</td>\n",
       "      <td>6.0</td>\n",
       "      <td>1.0</td>\n",
       "      <td>0.0</td>\n",
       "      <td>0.0</td>\n",
       "      <td>True</td>\n",
       "    </tr>\n",
       "    <tr>\n",
       "      <th>2</th>\n",
       "      <td>1283.0</td>\n",
       "      <td>112.0</td>\n",
       "      <td>0.0</td>\n",
       "      <td>NaN</td>\n",
       "      <td>7.0</td>\n",
       "      <td>True</td>\n",
       "    </tr>\n",
       "    <tr>\n",
       "      <th>3</th>\n",
       "      <td>NaN</td>\n",
       "      <td>1.0</td>\n",
       "      <td>1.0</td>\n",
       "      <td>0.0</td>\n",
       "      <td>0.0</td>\n",
       "      <td>False</td>\n",
       "    </tr>\n",
       "    <tr>\n",
       "      <th>4</th>\n",
       "      <td>NaN</td>\n",
       "      <td>1.0</td>\n",
       "      <td>1.0</td>\n",
       "      <td>NaN</td>\n",
       "      <td>NaN</td>\n",
       "      <td>False</td>\n",
       "    </tr>\n",
       "  </tbody>\n",
       "</table>\n",
       "</div>"
      ],
      "text/plain": [
       "   sumAtRisk  sumCases  sumDeaths  sumDestroyed  sumSlaughtered  isdomestic\n",
       "0   248000.0      12.0       12.0       50000.0             0.0        True\n",
       "1      122.0       6.0        1.0           0.0             0.0        True\n",
       "2     1283.0     112.0        0.0           NaN             7.0        True\n",
       "3        NaN       1.0        1.0           0.0             0.0       False\n",
       "4        NaN       1.0        1.0           NaN             NaN       False"
      ]
     },
     "execution_count": 17,
     "metadata": {},
     "output_type": "execute_result"
    }
   ],
   "source": [
    "# Bổ sung biến isdomestic vào bảng dữ liệu data_num \n",
    "data_num[\"isdomestic\"] = data['speciesDescription'].str.contains('domestic', regex=True).astype('bool')\n",
    "data_num.head()"
   ]
  },
  {
   "cell_type": "code",
   "execution_count": 18,
   "metadata": {
    "scrolled": true
   },
   "outputs": [
    {
     "data": {
      "text/plain": [
       "cattle          4945\n",
       "boar            2671\n",
       "NaN             2257\n",
       "chicken         1708\n",
       "duck            1403\n",
       "bird            1071\n",
       "sheep            988\n",
       "swine            681\n",
       "goose            216\n",
       "swan             166\n",
       "turkey           156\n",
       "horse             77\n",
       "sample            66\n",
       "mammal            62\n",
       "gull              51\n",
       "anatidae          49\n",
       "mallard           43\n",
       "ostrich           41\n",
       "buzzard           35\n",
       "ducks             33\n",
       "equidae           29\n",
       "quail             28\n",
       "goat              26\n",
       "heron             22\n",
       "crane             18\n",
       "camelidae         16\n",
       "dog               16\n",
       "falcon            16\n",
       "pigeon            11\n",
       "crow              10\n",
       "                ... \n",
       "coot               4\n",
       "cat                4\n",
       "rook               4\n",
       "magpie             4\n",
       "pheasant           3\n",
       "pochard            3\n",
       "jackal             3\n",
       "teal               3\n",
       "scaup              2\n",
       "goldeneye          2\n",
       "wigeon             2\n",
       "xpeacock           2\n",
       "deer               1\n",
       "pintail            1\n",
       "emu                1\n",
       "robin              1\n",
       "yaks               1\n",
       "canine             1\n",
       "kestrel            1\n",
       "ibex               1\n",
       "partridge          1\n",
       "openbill           1\n",
       "buffaloe           1\n",
       "starling           1\n",
       "gadwall            1\n",
       "hippopotamus       1\n",
       "curlew             1\n",
       "pelican            1\n",
       "hawk               1\n",
       "moorhen            1\n",
       "Name: speciesDescription, Length: 68, dtype: int64"
      ]
     },
     "execution_count": 18,
     "metadata": {},
     "output_type": "execute_result"
    }
   ],
   "source": [
    "# Kiểm tra từ cuối của mô tả:\n",
    "speciesDescription.str.extract(r'(\\w+$)', expand=False).value_counts(dropna=False)"
   ]
  },
  {
   "cell_type": "markdown",
   "metadata": {},
   "source": [
    "Phần lớn dữ liệu nhận được cho ta biết động vật nào là nguyên nhân của mầm bệnh, tuy nhiên có tới 2257 trường hợp trả về giá trị NaN, trong đó 1648 trường hợp là không ghi nhận nguyên nhân (không có thông tin trong mô tả - như đã nêu ở trên), số còn lại chúng ta cần kiểm tra tại sao lại không có kết quả như mong muốn."
   ]
  },
  {
   "cell_type": "code",
   "execution_count": 19,
   "metadata": {},
   "outputs": [
    {
     "data": {
      "text/plain": [
       "))    485\n",
       "      108\n",
       ")      16\n",
       "Name: speciesDescription, dtype: int64"
      ]
     },
     "execution_count": 19,
     "metadata": {},
     "output_type": "execute_result"
    }
   ],
   "source": [
    "# Kiểm tra các giá trị cuối cùng không phải là chữ:\n",
    "speciesDescription.str.extract(r'(\\W+$)', expand=False).value_counts()"
   ]
  },
  {
   "cell_type": "markdown",
   "metadata": {},
   "source": [
    "Chúng ta sẽ đi tìm hiểu chi tiết hơn về các tình huống ở trên, bắt đầu với \"((\""
   ]
  },
  {
   "cell_type": "code",
   "execution_count": 20,
   "metadata": {
    "scrolled": true
   },
   "outputs": [
    {
     "name": "stderr",
     "output_type": "stream",
     "text": [
      "/home/ddpham/anaconda3/envs/ML/lib/python3.6/site-packages/ipykernel_launcher.py:1: UserWarning: This pattern has match groups. To actually get the groups, use str.extract.\n",
      "  \"\"\"Entry point for launching an IPython kernel.\n"
     ]
    },
    {
     "data": {
      "text/plain": [
       "array(['wild,mute swan (cygnus olor))',\n",
       "       'wild,egyptian goose (alopochen aegyptiacus))',\n",
       "       'domestic,phasianidae (phasianidae))',\n",
       "       'wild,accipitridae (accipitridae))',\n",
       "       'domestic,unspecified bird,domestic,phasianidae (phasianidae))',\n",
       "       'wild,white tailed eagle (haliaeetus albicilla))',\n",
       "       'wild,mallard,wild,black swan (cygnus atratus))',\n",
       "       'wild,herring gull,wild,common eider (somateria mollissima))',\n",
       "       'wild,great black-backed gull (larus marinus))',\n",
       "       'wild,dalmatian pelican (pelecanus crispus))',\n",
       "       'wild,eurasian wigeon (anas penelope))',\n",
       "       'wild,unspecified bird,wild,anatidae,wild,stork,captive,phasianidae (phasianidae))',\n",
       "       'wild,great egret (ardea alba))',\n",
       "       'wild,eurasian collared dove (streptopelia decaocto))',\n",
       "       'captive,indian peafowl (pavo cristatus))',\n",
       "       'wild,mute swan (cygnus olor), wild, great cormorant (phalacrocorax carbo))',\n",
       "       'wild,great cormorant (phalacrocorax carbo))',\n",
       "       'wild,greylag goose,wild,mute swan (cygnus olor))',\n",
       "       'wild,black headed gull (chroicocephalus ridibundus))',\n",
       "       'wild,rose pelican (pelecanus onocrotalus))',\n",
       "       'wild,swan,wild,accipitridae (accipitridae))',\n",
       "       'wild,mallard,wild,grey heron,wild,great cormorant (phalacrocorax carbo))',\n",
       "       'wild,grey heron,wild,great egret (ardea alba))',\n",
       "       'wild,accipitridae (accipitridae), wild, phasianidae (phasianidae))',\n",
       "       'wild,hooded crow (corvus cornix))',\n",
       "       'wild,bean goose (anser fabalis))',\n",
       "       'wild,mallard,wild,mute swan (cygnus olor))',\n",
       "       'wild,black swan (cygnus atratus))',\n",
       "       'wild,mallard,wild,heron,wild,mute swan (cygnus olor), wild, black headed gull (chroicocephalus ridibundus))',\n",
       "       'wild,buzzard,wild,mute swan (cygnus olor))',\n",
       "       'wild,eurasian blackbird (turdus merula))',\n",
       "       'wild,common pochard (aythya ferina))',\n",
       "       'wild,common shelduck (tadorna tadorna))',\n",
       "       'domestic,unspecified bird,captive,indian peafowl (pavo cristatus))',\n",
       "       'wild,white-winged black tern (chlidonias leucopterus))',\n",
       "       'wild,mallard,wild,common pochard (aythya ferina), wild, black headed gull (chroicocephalus ridibundus), wild, great cormorant (phalacrocorax carbo))',\n",
       "       'wild,great crested grebe (podiceps cristatus))',\n",
       "       'wild,greater flamingo (phoenicopterus roseus))',\n",
       "       'wild,barn owl (tyto alba))',\n",
       "       'wild,herring gull,wild,great egret (ardea alba))',\n",
       "       'wild,mongolian saiga (saiga tatarica mongolica))',\n",
       "       'wild,northern pintail (anas acuta))',\n",
       "       'wild,eurasian eagle-owl (bubo bubo))',\n",
       "       'wild,eurasian wigeon (anas penelope), wild, mute swan  (cygnus olor))',\n",
       "       'wild,tufted duck,wild,little grebe,wild,greater flamingo (phoenicopterus roseus))',\n",
       "       'wild,common coot,wild,eurasian wigeon (anas penelope))',\n",
       "       'wild,herring gull,wild,mute swan (cygnus olor))',\n",
       "       'wild,common eider (somateria mollissima))',\n",
       "       'wild,great black-backed gull (larus marinus), wild, mute swan  (cygnus olor))',\n",
       "       'wild,elephant (african elephant))'], dtype=object)"
      ]
     },
     "execution_count": 20,
     "metadata": {},
     "output_type": "execute_result"
    }
   ],
   "source": [
    "speciesDescription[speciesDescription.str.contains(r'([)]{2}$)')==True].unique()"
   ]
  },
  {
   "cell_type": "markdown",
   "metadata": {},
   "source": [
    "Có thể thấy phần thông tin trong ngoặc --(...))-- là mô tả chi tiết giống động vật lây bệnh, tuy nhiên, chúng ta có thể giản lược thông tin này để lấy phần thông tin phía trương của nó. Phần thông tin này chúng ta có thể bỏ đi để có thể lấy được thông tin cần thiết."
   ]
  },
  {
   "cell_type": "code",
   "execution_count": 21,
   "metadata": {
    "scrolled": true
   },
   "outputs": [
    {
     "name": "stderr",
     "output_type": "stream",
     "text": [
      "/home/ddpham/anaconda3/envs/ML/lib/python3.6/site-packages/ipykernel_launcher.py:1: UserWarning: This pattern has match groups. To actually get the groups, use str.extract.\n",
      "  \"\"\"Entry point for launching an IPython kernel.\n"
     ]
    },
    {
     "data": {
      "text/plain": [
       "swan            342\n",
       "wigeon           29\n",
       "eagle            28\n",
       "gull             24\n",
       "cormorant         8\n",
       "egret             6\n",
       "phasianidae       5\n",
       "crow              5\n",
       "pochard           4\n",
       "accipitridae      4\n",
       "goose             4\n",
       "grebe             3\n",
       "owl               3\n",
       "pintail           2\n",
       "tern              2\n",
       "eider             2\n",
       "elephant          2\n",
       "pelican           2\n",
       "flamingo          2\n",
       "peafowl           2\n",
       "dove              1\n",
       "blackbird         1\n",
       "shelduck          1\n",
       "Name: 0, dtype: int64"
      ]
     },
     "execution_count": 21,
     "metadata": {},
     "output_type": "execute_result"
    }
   ],
   "source": [
    "speciesDescription[speciesDescription.str.contains(r'( [(]\\w+ \\w+[)]{2})|( [(]\\w+[)]{2})$')==True].str.replace(r'( [(]\\w+ \\w+[)]{2})|( [(]\\w+[)]{2})$', '').str.extract(r'(\\w+$)')[0].value_counts()"
   ]
  },
  {
   "cell_type": "code",
   "execution_count": 22,
   "metadata": {},
   "outputs": [
    {
     "name": "stderr",
     "output_type": "stream",
     "text": [
      "/home/ddpham/anaconda3/envs/ML/lib/python3.6/site-packages/ipykernel_launcher.py:2: UserWarning: This pattern has match groups. To actually get the groups, use str.extract.\n",
      "  \n"
     ]
    },
    {
     "data": {
      "text/plain": [
       "2763     wild,accipitridae (accipitridae), wild, wild d...\n",
       "3021     wild,accipitridae (accipitridae), wild, wild d...\n",
       "3487     wild,mute swan (cygnus olor), wild, whooper swan)\n",
       "3735     wild,mute swan (cygnus olor), wild, greater wh...\n",
       "3868     captive,guinea fowl,domestic,indian peafowl (p...\n",
       "4066     wild,mute swan (cygnus olor), wild, greylag go...\n",
       "4105        wild,mute swan (cygnus olor), wild, wild duck)\n",
       "4834     wild,mallard,wild,greylag goose,wild,wild duck...\n",
       "5020     wild,eurasian wigeon (anas penelope), wild, gr...\n",
       "5639     wild,eurasian wigeon (anas penelope), wild, gr...\n",
       "5903        wild,mute swan (cygnus olor), wild, wild duck)\n",
       "6285     wild,bean goose (anser fabalis), wild, greater...\n",
       "7266     wild,gull,wild,mute swan (cygnus olor), wild, ...\n",
       "7597     wild,great black-backed gull (larus marinus), ...\n",
       "8541     wild,ruddy shelduck,wild,common coot,wild,mall...\n",
       "12424    wild,brown headed gull,wild,great black-headed...\n",
       "Name: speciesDescription, dtype: object"
      ]
     },
     "execution_count": 22,
     "metadata": {},
     "output_type": "execute_result"
    }
   ],
   "source": [
    "# Kiểm tra phần mô tả kết thúc với chỉ \"(\":\n",
    "speciesDescription[speciesDescription.str.contains(r'(\\w+[)])$')==True]"
   ]
  },
  {
   "cell_type": "code",
   "execution_count": 23,
   "metadata": {},
   "outputs": [
    {
     "data": {
      "text/plain": [
       "'wild,mute swan (cygnus olor), wild, greater white-fronted goose)'"
      ]
     },
     "execution_count": 23,
     "metadata": {},
     "output_type": "execute_result"
    }
   ],
   "source": [
    "speciesDescription[3735]"
   ]
  },
  {
   "cell_type": "markdown",
   "metadata": {},
   "source": [
    "Có vẻ như đây là một lỗi nhỏ trong quá trình nhập liệu khi dấu \")\" được bổ sung ở cuối câu. Đồi với các tình huống này, ta chỉ đơn thuần xóa đi dấu \")\"."
   ]
  },
  {
   "cell_type": "code",
   "execution_count": 24,
   "metadata": {},
   "outputs": [
    {
     "name": "stderr",
     "output_type": "stream",
     "text": [
      "/home/ddpham/anaconda3/envs/ML/lib/python3.6/site-packages/ipykernel_launcher.py:1: UserWarning: This pattern has match groups. To actually get the groups, use str.extract.\n",
      "  \"\"\"Entry point for launching an IPython kernel.\n"
     ]
    },
    {
     "data": {
      "text/plain": [
       "duck     6\n",
       "goose    6\n",
       "gull     2\n",
       "stint    1\n",
       "swan     1\n",
       "Name: 0, dtype: int64"
      ]
     },
     "execution_count": 24,
     "metadata": {},
     "output_type": "execute_result"
    }
   ],
   "source": [
    "speciesDescription[speciesDescription.str.contains(r'(\\w+[)])$')==True].str.replace('([)]{1})$', '').str.extract(r'(\\w+$)')[0].value_counts()"
   ]
  },
  {
   "cell_type": "code",
   "execution_count": 25,
   "metadata": {},
   "outputs": [
    {
     "name": "stderr",
     "output_type": "stream",
     "text": [
      "/home/ddpham/anaconda3/envs/ML/lib/python3.6/site-packages/ipykernel_launcher.py:2: UserWarning: This pattern has match groups. To actually get the groups, use str.extract.\n",
      "  \n"
     ]
    },
    {
     "data": {
      "text/plain": [
       "domestic, goat/sheep                                                             98\n",
       "domestic, cattle, domestic, goat/sheep                                            6\n",
       "domestic, cattle, domestic, horse, domestic, goat/sheep                           2\n",
       "wild, accipiter gentilis                                                          1\n",
       "domestic, cattle, domestic, camelidae, domestic, horse, domestic, goat/sheep      1\n",
       "Name: speciesDescription, dtype: int64"
      ]
     },
     "execution_count": 25,
     "metadata": {},
     "output_type": "execute_result"
    }
   ],
   "source": [
    "# Kiểm tra phần mô tả có ký tự cuối cùng là dấu cách - space:\n",
    "speciesDescription[speciesDescription.str.contains(r'([ ]+)$')==True].value_counts()"
   ]
  },
  {
   "cell_type": "markdown",
   "metadata": {},
   "source": [
    "Đây cũng là một lỗi nhỏ trong quá trình nhập liệu khi dấu space xuất hiện ở cuối câu, ta cũng cần xóa bỏ ký tự này để lấy được dữ liệu mong muốn. Ngoài ra, chúng ta cũng để ý thấy dữ liệu mô tả có ghi nhận \"goat/sheep\" là 1 trong 2 loại đồng vật lây bệnh, để đơn giản hóa, ta có thể biến đổi dữ liệu này thành goat - hoặc sheep."
   ]
  },
  {
   "cell_type": "markdown",
   "metadata": {},
   "source": [
    "#### Thực hiện các bước làm sạch dữ liệu"
   ]
  },
  {
   "cell_type": "code",
   "execution_count": 26,
   "metadata": {},
   "outputs": [],
   "source": [
    "## Thực hiện các bước làm sạch dữ liệu mô tả:\n",
    "# Xóa dấu cách cuối dòng:\n",
    "speciesDescription = speciesDescription.str.replace(r'([ ]+)$', '')\n",
    "# Xóa cụm từ và \"))\" cuối dòng:\n",
    "speciesDescription = speciesDescription.str.replace(r'( [(]\\w+ \\w+[)]{2})|( [(]\\w+[)]{2})$', '')\n",
    "# Xóa \")\" cuối dòng:\n",
    "speciesDescription = speciesDescription.str.replace('([)]{1})$', '')\n",
    "# Thay goat/sheep bằng goat:\n",
    "speciesDescription = speciesDescription.str.replace(r'(goat/sheep)', 'goat')\n",
    "# Lấy ký tự cuối cùng:\n",
    "species = speciesDescription.str.extract(r'(\\w+$)')"
   ]
  },
  {
   "cell_type": "code",
   "execution_count": 27,
   "metadata": {
    "scrolled": true
   },
   "outputs": [
    {
     "data": {
      "text/plain": [
       "cattle          4945\n",
       "boar            2671\n",
       "chicken         1708\n",
       "NaN             1651\n",
       "duck            1409\n",
       "bird            1071\n",
       "sheep            988\n",
       "swine            681\n",
       "swan             509\n",
       "goose            226\n",
       "turkey           156\n",
       "goat             133\n",
       "gull              77\n",
       "horse             77\n",
       "sample            66\n",
       "mammal            62\n",
       "anatidae          49\n",
       "mallard           43\n",
       "ostrich           41\n",
       "buzzard           35\n",
       "ducks             33\n",
       "wigeon            31\n",
       "equidae           29\n",
       "quail             28\n",
       "eagle             28\n",
       "heron             22\n",
       "crane             18\n",
       "dog               16\n",
       "falcon            16\n",
       "camelidae         16\n",
       "                ... \n",
       "pheasant           3\n",
       "xpeacock           2\n",
       "elephant           2\n",
       "peafowl            2\n",
       "flamingo           2\n",
       "scaup              2\n",
       "tern               2\n",
       "goldeneye          2\n",
       "eider              2\n",
       "kestrel            1\n",
       "blackbird          1\n",
       "openbill           1\n",
       "robin              1\n",
       "emu                1\n",
       "ibex               1\n",
       "gadwall            1\n",
       "dove               1\n",
       "hippopotamus       1\n",
       "curlew             1\n",
       "buffaloe           1\n",
       "hawk               1\n",
       "stint              1\n",
       "yaks               1\n",
       "moorhen            1\n",
       "deer               1\n",
       "shelduck           1\n",
       "starling           1\n",
       "gentilis           1\n",
       "partridge          1\n",
       "canine             1\n",
       "Name: 0, Length: 81, dtype: int64"
      ]
     },
     "execution_count": 27,
     "metadata": {},
     "output_type": "execute_result"
    }
   ],
   "source": [
    "# Kiểm tra giá trị của trường mới:\n",
    "species[0].value_counts(dropna=False)"
   ]
  },
  {
   "cell_type": "markdown",
   "metadata": {},
   "source": [
    "Sau khi đã xử lý một số lỗi dữ liệu thì trường species mới tạo ra đã bao gồm được tất cả các động vật được mô tả, tuy nhiên, vẫn có 1651 bản ghi không có thông tin do trường speciesDescription ban đầu không có thông tin."
   ]
  },
  {
   "cell_type": "code",
   "execution_count": 28,
   "metadata": {},
   "outputs": [
    {
     "data": {
      "text/html": [
       "<div>\n",
       "<style scoped>\n",
       "    .dataframe tbody tr th:only-of-type {\n",
       "        vertical-align: middle;\n",
       "    }\n",
       "\n",
       "    .dataframe tbody tr th {\n",
       "        vertical-align: top;\n",
       "    }\n",
       "\n",
       "    .dataframe thead th {\n",
       "        text-align: right;\n",
       "    }\n",
       "</style>\n",
       "<table border=\"1\" class=\"dataframe\">\n",
       "  <thead>\n",
       "    <tr style=\"text-align: right;\">\n",
       "      <th></th>\n",
       "      <th>accipitridae</th>\n",
       "      <th>anatidae</th>\n",
       "      <th>bird</th>\n",
       "      <th>blackbird</th>\n",
       "      <th>boar</th>\n",
       "      <th>buffaloe</th>\n",
       "      <th>buzzard</th>\n",
       "      <th>camelidae</th>\n",
       "      <th>canine</th>\n",
       "      <th>cat</th>\n",
       "      <th>...</th>\n",
       "      <th>stint</th>\n",
       "      <th>stork</th>\n",
       "      <th>swan</th>\n",
       "      <th>swine</th>\n",
       "      <th>teal</th>\n",
       "      <th>tern</th>\n",
       "      <th>turkey</th>\n",
       "      <th>wigeon</th>\n",
       "      <th>xpeacock</th>\n",
       "      <th>yaks</th>\n",
       "    </tr>\n",
       "  </thead>\n",
       "  <tbody>\n",
       "    <tr>\n",
       "      <th>0</th>\n",
       "      <td>0</td>\n",
       "      <td>0</td>\n",
       "      <td>1</td>\n",
       "      <td>0</td>\n",
       "      <td>0</td>\n",
       "      <td>0</td>\n",
       "      <td>0</td>\n",
       "      <td>0</td>\n",
       "      <td>0</td>\n",
       "      <td>0</td>\n",
       "      <td>...</td>\n",
       "      <td>0</td>\n",
       "      <td>0</td>\n",
       "      <td>0</td>\n",
       "      <td>0</td>\n",
       "      <td>0</td>\n",
       "      <td>0</td>\n",
       "      <td>0</td>\n",
       "      <td>0</td>\n",
       "      <td>0</td>\n",
       "      <td>0</td>\n",
       "    </tr>\n",
       "    <tr>\n",
       "      <th>1</th>\n",
       "      <td>0</td>\n",
       "      <td>0</td>\n",
       "      <td>0</td>\n",
       "      <td>0</td>\n",
       "      <td>0</td>\n",
       "      <td>0</td>\n",
       "      <td>0</td>\n",
       "      <td>0</td>\n",
       "      <td>0</td>\n",
       "      <td>0</td>\n",
       "      <td>...</td>\n",
       "      <td>0</td>\n",
       "      <td>0</td>\n",
       "      <td>0</td>\n",
       "      <td>1</td>\n",
       "      <td>0</td>\n",
       "      <td>0</td>\n",
       "      <td>0</td>\n",
       "      <td>0</td>\n",
       "      <td>0</td>\n",
       "      <td>0</td>\n",
       "    </tr>\n",
       "    <tr>\n",
       "      <th>2</th>\n",
       "      <td>0</td>\n",
       "      <td>0</td>\n",
       "      <td>0</td>\n",
       "      <td>0</td>\n",
       "      <td>0</td>\n",
       "      <td>0</td>\n",
       "      <td>0</td>\n",
       "      <td>0</td>\n",
       "      <td>0</td>\n",
       "      <td>0</td>\n",
       "      <td>...</td>\n",
       "      <td>0</td>\n",
       "      <td>0</td>\n",
       "      <td>0</td>\n",
       "      <td>0</td>\n",
       "      <td>0</td>\n",
       "      <td>0</td>\n",
       "      <td>0</td>\n",
       "      <td>0</td>\n",
       "      <td>0</td>\n",
       "      <td>0</td>\n",
       "    </tr>\n",
       "    <tr>\n",
       "      <th>3</th>\n",
       "      <td>0</td>\n",
       "      <td>0</td>\n",
       "      <td>1</td>\n",
       "      <td>0</td>\n",
       "      <td>0</td>\n",
       "      <td>0</td>\n",
       "      <td>0</td>\n",
       "      <td>0</td>\n",
       "      <td>0</td>\n",
       "      <td>0</td>\n",
       "      <td>...</td>\n",
       "      <td>0</td>\n",
       "      <td>0</td>\n",
       "      <td>0</td>\n",
       "      <td>0</td>\n",
       "      <td>0</td>\n",
       "      <td>0</td>\n",
       "      <td>0</td>\n",
       "      <td>0</td>\n",
       "      <td>0</td>\n",
       "      <td>0</td>\n",
       "    </tr>\n",
       "    <tr>\n",
       "      <th>4</th>\n",
       "      <td>0</td>\n",
       "      <td>0</td>\n",
       "      <td>0</td>\n",
       "      <td>0</td>\n",
       "      <td>1</td>\n",
       "      <td>0</td>\n",
       "      <td>0</td>\n",
       "      <td>0</td>\n",
       "      <td>0</td>\n",
       "      <td>0</td>\n",
       "      <td>...</td>\n",
       "      <td>0</td>\n",
       "      <td>0</td>\n",
       "      <td>0</td>\n",
       "      <td>0</td>\n",
       "      <td>0</td>\n",
       "      <td>0</td>\n",
       "      <td>0</td>\n",
       "      <td>0</td>\n",
       "      <td>0</td>\n",
       "      <td>0</td>\n",
       "    </tr>\n",
       "  </tbody>\n",
       "</table>\n",
       "<p>5 rows × 80 columns</p>\n",
       "</div>"
      ],
      "text/plain": [
       "   accipitridae  anatidae  bird  blackbird  boar  buffaloe  buzzard  \\\n",
       "0             0         0     1          0     0         0        0   \n",
       "1             0         0     0          0     0         0        0   \n",
       "2             0         0     0          0     0         0        0   \n",
       "3             0         0     1          0     0         0        0   \n",
       "4             0         0     0          0     1         0        0   \n",
       "\n",
       "   camelidae  canine  cat  ...   stint  stork  swan  swine  teal  tern  \\\n",
       "0          0       0    0  ...       0      0     0      0     0     0   \n",
       "1          0       0    0  ...       0      0     0      1     0     0   \n",
       "2          0       0    0  ...       0      0     0      0     0     0   \n",
       "3          0       0    0  ...       0      0     0      0     0     0   \n",
       "4          0       0    0  ...       0      0     0      0     0     0   \n",
       "\n",
       "   turkey  wigeon  xpeacock  yaks  \n",
       "0       0       0         0     0  \n",
       "1       0       0         0     0  \n",
       "2       0       0         0     0  \n",
       "3       0       0         0     0  \n",
       "4       0       0         0     0  \n",
       "\n",
       "[5 rows x 80 columns]"
      ]
     },
     "execution_count": 28,
     "metadata": {},
     "output_type": "execute_result"
    }
   ],
   "source": [
    "# Chuyển đổi dữ liệu động vật thành dạng one-hot encoding:\n",
    "species_dump = pd.get_dummies(species[0])\n",
    "species_dump.head()"
   ]
  },
  {
   "cell_type": "markdown",
   "metadata": {},
   "source": [
    "Như vậy chúng ta đã có đầy đủ các biến độc lập và đã được xử lý qua về chất lượng dữ liệu. Giờ ta có thể gộp các biến độc lập lại với nhau"
   ]
  },
  {
   "cell_type": "code",
   "execution_count": 29,
   "metadata": {},
   "outputs": [],
   "source": [
    "# Gộp biến độc lập lại với nhau:\n",
    "X = pd.concat([data_num, species_dump, country_dump], axis=1)"
   ]
  },
  {
   "cell_type": "markdown",
   "metadata": {},
   "source": [
    "### Tạo dữ liệu train và test"
   ]
  },
  {
   "cell_type": "code",
   "execution_count": 30,
   "metadata": {},
   "outputs": [],
   "source": [
    "# Tạo ra dữ liệu train và test:\n",
    "X_train, X_test, y_train, y_test = train_test_split(X, label, test_size=.3, random_state=42)"
   ]
  },
  {
   "cell_type": "markdown",
   "metadata": {},
   "source": [
    "## Bước 4: Xây dựng mô hình\n",
    "\n",
    "Trước khi bắt tay vào việc xây dựng mô hình, chúng ta sẽ biến đổi dữ liệu train và test về dạng dữ liệu matrix của gói xgboost để thuận tiện cho việc train và test mô hình."
   ]
  },
  {
   "cell_type": "code",
   "execution_count": 31,
   "metadata": {},
   "outputs": [],
   "source": [
    "# Biến đổi dữ liệu sang dang DMatrix (dữ liệu dạng matrix của xgboost):\n",
    "features = X.columns\n",
    "dtrain = xgb.DMatrix(data=X_train, label=y_train)\n",
    "dtest = xgb.DMatrix(data=X_test, label=y_test)"
   ]
  },
  {
   "cell_type": "code",
   "execution_count": 32,
   "metadata": {
    "scrolled": true
   },
   "outputs": [
    {
     "name": "stdout",
     "output_type": "stream",
     "text": [
      "[0]\tval-error:0.020576\tval-auc:0.992291\ttrain-error:0.018648\ttrain-auc:0.994302\n",
      "[1]\tval-error:0.0194\tval-auc:0.993605\ttrain-error:0.01764\ttrain-auc:0.995548\n",
      "[2]\tval-error:0.018616\tval-auc:0.99372\ttrain-error:0.017052\ttrain-auc:0.995591\n",
      "[3]\tval-error:0.018029\tval-auc:0.99387\ttrain-error:0.016632\ttrain-auc:0.995707\n",
      "[4]\tval-error:0.017245\tval-auc:0.993892\ttrain-error:0.016212\ttrain-auc:0.995718\n",
      "[5]\tval-error:0.017049\tval-auc:0.993903\ttrain-error:0.016212\ttrain-auc:0.995733\n",
      "[6]\tval-error:0.016265\tval-auc:0.993923\ttrain-error:0.015372\ttrain-auc:0.995742\n",
      "[7]\tval-error:0.015481\tval-auc:0.993931\ttrain-error:0.014868\ttrain-auc:0.995751\n",
      "[8]\tval-error:0.015481\tval-auc:0.993931\ttrain-error:0.014448\ttrain-auc:0.995761\n",
      "[9]\tval-error:0.014893\tval-auc:0.993945\ttrain-error:0.01428\ttrain-auc:0.995766\n",
      "[10]\tval-error:0.014893\tval-auc:0.994094\ttrain-error:0.01428\ttrain-auc:0.995943\n",
      "[11]\tval-error:0.014893\tval-auc:0.994094\ttrain-error:0.014028\ttrain-auc:0.995947\n",
      "[12]\tval-error:0.014893\tval-auc:0.994096\ttrain-error:0.014028\ttrain-auc:0.995949\n",
      "[13]\tval-error:0.014893\tval-auc:0.993929\ttrain-error:0.014028\ttrain-auc:0.995949\n",
      "[14]\tval-error:0.014893\tval-auc:0.99503\ttrain-error:0.014028\ttrain-auc:0.995949\n",
      "[15]\tval-error:0.014893\tval-auc:0.99503\ttrain-error:0.014028\ttrain-auc:0.995949\n",
      "[16]\tval-error:0.014893\tval-auc:0.99518\ttrain-error:0.014028\ttrain-auc:0.996036\n",
      "[17]\tval-error:0.014893\tval-auc:0.995065\ttrain-error:0.014028\ttrain-auc:0.996036\n",
      "[18]\tval-error:0.014893\tval-auc:0.995164\ttrain-error:0.014028\ttrain-auc:0.996036\n",
      "[19]\tval-error:0.014893\tval-auc:0.995211\ttrain-error:0.01428\ttrain-auc:0.996036\n",
      "[20]\tval-error:0.014893\tval-auc:0.995265\ttrain-error:0.01428\ttrain-auc:0.996109\n",
      "[21]\tval-error:0.014893\tval-auc:0.995307\ttrain-error:0.01428\ttrain-auc:0.996109\n",
      "[22]\tval-error:0.014893\tval-auc:0.995276\ttrain-error:0.01428\ttrain-auc:0.996109\n",
      "[23]\tval-error:0.014893\tval-auc:0.995173\ttrain-error:0.01428\ttrain-auc:0.996036\n",
      "[24]\tval-error:0.014893\tval-auc:0.995291\ttrain-error:0.014112\ttrain-auc:0.996109\n",
      "[25]\tval-error:0.014893\tval-auc:0.995262\ttrain-error:0.014112\ttrain-auc:0.996109\n",
      "[26]\tval-error:0.014893\tval-auc:0.995207\ttrain-error:0.014112\ttrain-auc:0.996036\n",
      "[27]\tval-error:0.014893\tval-auc:0.995247\ttrain-error:0.014112\ttrain-auc:0.996109\n",
      "[28]\tval-error:0.014893\tval-auc:0.995196\ttrain-error:0.014112\ttrain-auc:0.996036\n",
      "[29]\tval-error:0.014893\tval-auc:0.995175\ttrain-error:0.014112\ttrain-auc:0.996036\n",
      "[30]\tval-error:0.014893\tval-auc:0.995203\ttrain-error:0.014112\ttrain-auc:0.996036\n",
      "[31]\tval-error:0.014893\tval-auc:0.995194\ttrain-error:0.014112\ttrain-auc:0.996036\n",
      "[32]\tval-error:0.014893\tval-auc:0.995193\ttrain-error:0.014112\ttrain-auc:0.996036\n",
      "[33]\tval-error:0.014893\tval-auc:0.995248\ttrain-error:0.014112\ttrain-auc:0.996109\n",
      "[34]\tval-error:0.014893\tval-auc:0.995198\ttrain-error:0.014112\ttrain-auc:0.996036\n",
      "[35]\tval-error:0.014893\tval-auc:0.995255\ttrain-error:0.014112\ttrain-auc:0.996109\n",
      "[36]\tval-error:0.014893\tval-auc:0.995179\ttrain-error:0.014112\ttrain-auc:0.996036\n",
      "[37]\tval-error:0.014893\tval-auc:0.99525\ttrain-error:0.014112\ttrain-auc:0.996109\n",
      "[38]\tval-error:0.014893\tval-auc:0.995179\ttrain-error:0.014112\ttrain-auc:0.996036\n",
      "[39]\tval-error:0.014893\tval-auc:0.99525\ttrain-error:0.014112\ttrain-auc:0.996109\n",
      "[40]\tval-error:0.014893\tval-auc:0.995176\ttrain-error:0.014112\ttrain-auc:0.996036\n",
      "[41]\tval-error:0.014893\tval-auc:0.995179\ttrain-error:0.014112\ttrain-auc:0.996036\n",
      "[42]\tval-error:0.014893\tval-auc:0.99525\ttrain-error:0.014112\ttrain-auc:0.996109\n",
      "[43]\tval-error:0.014893\tval-auc:0.995185\ttrain-error:0.014112\ttrain-auc:0.996036\n",
      "[44]\tval-error:0.014893\tval-auc:0.995255\ttrain-error:0.014112\ttrain-auc:0.996109\n",
      "[45]\tval-error:0.014893\tval-auc:0.995179\ttrain-error:0.014112\ttrain-auc:0.996036\n",
      "[46]\tval-error:0.014893\tval-auc:0.995221\ttrain-error:0.014112\ttrain-auc:0.996109\n",
      "[47]\tval-error:0.014893\tval-auc:0.995181\ttrain-error:0.014112\ttrain-auc:0.996036\n",
      "[48]\tval-error:0.014893\tval-auc:0.995223\ttrain-error:0.014112\ttrain-auc:0.996109\n",
      "[49]\tval-error:0.014893\tval-auc:0.995147\ttrain-error:0.014112\ttrain-auc:0.996036\n",
      "[50]\tval-error:0.014893\tval-auc:0.995221\ttrain-error:0.014112\ttrain-auc:0.996109\n",
      "[51]\tval-error:0.014893\tval-auc:0.995153\ttrain-error:0.014112\ttrain-auc:0.996036\n",
      "[52]\tval-error:0.014893\tval-auc:0.995226\ttrain-error:0.014112\ttrain-auc:0.996109\n",
      "[53]\tval-error:0.014893\tval-auc:0.995185\ttrain-error:0.014112\ttrain-auc:0.996036\n",
      "[54]\tval-error:0.014893\tval-auc:0.99523\ttrain-error:0.014112\ttrain-auc:0.996109\n",
      "[55]\tval-error:0.014893\tval-auc:0.995156\ttrain-error:0.014112\ttrain-auc:0.996036\n",
      "[56]\tval-error:0.014893\tval-auc:0.995227\ttrain-error:0.014112\ttrain-auc:0.996109\n",
      "[57]\tval-error:0.014893\tval-auc:0.995162\ttrain-error:0.014112\ttrain-auc:0.996036\n",
      "[58]\tval-error:0.014893\tval-auc:0.995233\ttrain-error:0.014112\ttrain-auc:0.996109\n",
      "[59]\tval-error:0.014893\tval-auc:0.995165\ttrain-error:0.014112\ttrain-auc:0.996036\n",
      "[60]\tval-error:0.014893\tval-auc:0.995236\ttrain-error:0.014112\ttrain-auc:0.996109\n",
      "[61]\tval-error:0.014893\tval-auc:0.995234\ttrain-error:0.014112\ttrain-auc:0.996109\n",
      "[62]\tval-error:0.014893\tval-auc:0.995183\ttrain-error:0.014112\ttrain-auc:0.996109\n",
      "[63]\tval-error:0.014893\tval-auc:0.995162\ttrain-error:0.014112\ttrain-auc:0.996036\n",
      "[64]\tval-error:0.014893\tval-auc:0.995236\ttrain-error:0.014112\ttrain-auc:0.996109\n",
      "[65]\tval-error:0.014893\tval-auc:0.995164\ttrain-error:0.014112\ttrain-auc:0.996036\n",
      "[66]\tval-error:0.014893\tval-auc:0.995237\ttrain-error:0.014112\ttrain-auc:0.996109\n",
      "[67]\tval-error:0.014893\tval-auc:0.99524\ttrain-error:0.014112\ttrain-auc:0.996109\n",
      "[68]\tval-error:0.014893\tval-auc:0.99524\ttrain-error:0.014112\ttrain-auc:0.996109\n",
      "[69]\tval-error:0.014893\tval-auc:0.995236\ttrain-error:0.014112\ttrain-auc:0.996109\n",
      "[70]\tval-error:0.014893\tval-auc:0.995239\ttrain-error:0.014112\ttrain-auc:0.996109\n",
      "[71]\tval-error:0.014893\tval-auc:0.99523\ttrain-error:0.014112\ttrain-auc:0.996109\n",
      "[72]\tval-error:0.014893\tval-auc:0.995219\ttrain-error:0.014112\ttrain-auc:0.996109\n",
      "[73]\tval-error:0.014893\tval-auc:0.995235\ttrain-error:0.014112\ttrain-auc:0.996109\n",
      "[74]\tval-error:0.014893\tval-auc:0.995232\ttrain-error:0.014112\ttrain-auc:0.996109\n",
      "[75]\tval-error:0.014893\tval-auc:0.995236\ttrain-error:0.014112\ttrain-auc:0.996109\n",
      "[76]\tval-error:0.014893\tval-auc:0.995233\ttrain-error:0.014112\ttrain-auc:0.996109\n",
      "[77]\tval-error:0.014893\tval-auc:0.995231\ttrain-error:0.014112\ttrain-auc:0.996109\n",
      "[78]\tval-error:0.014893\tval-auc:0.995223\ttrain-error:0.014112\ttrain-auc:0.996109\n",
      "[79]\tval-error:0.014893\tval-auc:0.995224\ttrain-error:0.014112\ttrain-auc:0.996109\n",
      "[80]\tval-error:0.014893\tval-auc:0.995223\ttrain-error:0.014112\ttrain-auc:0.996109\n",
      "[81]\tval-error:0.014893\tval-auc:0.995231\ttrain-error:0.014112\ttrain-auc:0.996109\n",
      "[82]\tval-error:0.014893\tval-auc:0.995229\ttrain-error:0.014112\ttrain-auc:0.996109\n",
      "[83]\tval-error:0.014893\tval-auc:0.995227\ttrain-error:0.014112\ttrain-auc:0.996109\n",
      "[84]\tval-error:0.014893\tval-auc:0.995219\ttrain-error:0.014112\ttrain-auc:0.996109\n",
      "[85]\tval-error:0.014893\tval-auc:0.995222\ttrain-error:0.014112\ttrain-auc:0.996109\n",
      "[86]\tval-error:0.014893\tval-auc:0.995219\ttrain-error:0.014112\ttrain-auc:0.996109\n",
      "[87]\tval-error:0.014893\tval-auc:0.995225\ttrain-error:0.014112\ttrain-auc:0.996109\n",
      "[88]\tval-error:0.014893\tval-auc:0.995226\ttrain-error:0.014112\ttrain-auc:0.996109\n",
      "[89]\tval-error:0.014893\tval-auc:0.995218\ttrain-error:0.014112\ttrain-auc:0.996109\n",
      "[90]\tval-error:0.014893\tval-auc:0.995217\ttrain-error:0.014112\ttrain-auc:0.996109\n",
      "[91]\tval-error:0.014893\tval-auc:0.995216\ttrain-error:0.014112\ttrain-auc:0.996109\n",
      "[92]\tval-error:0.014893\tval-auc:0.995216\ttrain-error:0.014112\ttrain-auc:0.996109\n",
      "[93]\tval-error:0.014893\tval-auc:0.995217\ttrain-error:0.014112\ttrain-auc:0.996109\n",
      "[94]\tval-error:0.014893\tval-auc:0.995216\ttrain-error:0.014112\ttrain-auc:0.996109\n",
      "[95]\tval-error:0.014893\tval-auc:0.995219\ttrain-error:0.014112\ttrain-auc:0.996109\n",
      "[96]\tval-error:0.014893\tval-auc:0.995219\ttrain-error:0.014112\ttrain-auc:0.996109\n",
      "[97]\tval-error:0.014893\tval-auc:0.995221\ttrain-error:0.014112\ttrain-auc:0.996109\n",
      "[98]\tval-error:0.014893\tval-auc:0.99522\ttrain-error:0.014112\ttrain-auc:0.996109\n",
      "[99]\tval-error:0.014893\tval-auc:0.995221\ttrain-error:0.014112\ttrain-auc:0.99611\n"
     ]
    }
   ],
   "source": [
    "# Tạo tham số cho mô hình:\n",
    "num_round = 100 # số lượng lần train mô hình\n",
    "watchlist = ([dtest, 'val'], [dtrain, 'train'])\n",
    "param = {\n",
    "    'max_depth': 5 # chiều sâu của tree\n",
    "    , 'eta': 0.5 # learning_rate; có giá trị từ 0-1\n",
    "    , 'nthreads': 4 # số lượng rãnh được xử dụng để chạy mô hình\n",
    "    , 'objective': 'binary:logistic' # loại mô hình sử dụng; ở đây chúng ta sử dụng mô hình logistic cho biến phân loại dạng nhị phân\n",
    "    , 'eval_metric': ['error', 'auc'] # metrix sử dụng để đánh giá mô hình\n",
    "    , 'silent': 1 # 0 - ko in kết quả; 1-in kết quả\n",
    "}\n",
    "\n",
    "model = xgb.train(param\n",
    "                 , dtrain\n",
    "                 , num_round\n",
    "                 , watchlist\n",
    "                 )"
   ]
  },
  {
   "cell_type": "markdown",
   "metadata": {},
   "source": [
    "Từ kết quả xây dựng mô hình ở trên ta có thể thấy:\n",
    "\n",
    "- Mô hình có kết quả error: 0.014893\n",
    "- Giá trị AUC của mô hình là: 0.995221\n",
    "- Kết quả sơ bộ cho thấy mô hình khá chuẩn xác.\n",
    "- Tuy nhiên, kết quả của cả error và AUC có dữ liệu val đều có kế quả kém hơn so với dữ liệu train, điều này cho thấy mô hình đang bị overfit.\n",
    "\n",
    "Tạm thời chúng ta bỏ qua vấn đề về overfit của mô hình để tìm hiểu thêm những kết quả của mô hình này"
   ]
  },
  {
   "cell_type": "code",
   "execution_count": 33,
   "metadata": {},
   "outputs": [
    {
     "data": {
      "text/plain": [
       "array([False, False,  True, ...,  True, False,  True])"
      ]
     },
     "execution_count": 33,
     "metadata": {},
     "output_type": "execute_result"
    }
   ],
   "source": [
    "# Kiểm tra kết quả các metrix đánh giá mô hình: accuracy; precision; recall:\n",
    "from sklearn.metrics import accuracy_score, precision_score, recall_score, precision_recall_curve\n",
    "preds = model.predict(dtest) # dự báo xác xuất dựa vào kết quả test\n",
    "y_preds = (preds >= 0.5) # sử dụng hạn mức 0.5 làm phân loại\n",
    "y_preds"
   ]
  },
  {
   "cell_type": "code",
   "execution_count": 34,
   "metadata": {},
   "outputs": [
    {
     "name": "stdout",
     "output_type": "stream",
     "text": [
      "Accuracy score: 0.985107\n",
      "Error rate: 0.014893\n",
      "Precision score: 0.847561\n",
      "Recall score: 0.997608\n"
     ]
    }
   ],
   "source": [
    "# Kiểm tra độ chính xác:\n",
    "print('Accuracy score: %f' %(accuracy_score(y_test, y_preds)))\n",
    "print('Error rate: %f' % (1-accuracy_score(y_test, y_preds)))\n",
    "print('Precision score: %f' %(precision_score(y_test, y_preds)))\n",
    "print('Recall score: %f' %(recall_score(y_test, y_preds)))"
   ]
  },
  {
   "cell_type": "code",
   "execution_count": 35,
   "metadata": {},
   "outputs": [
    {
     "data": {
      "image/png": "[encoded data removed]",
      "text/plain": [
       "<Figure size 432x288 with 1 Axes>"
      ]
     },
     "metadata": {},
     "output_type": "display_data"
    }
   ],
   "source": [
    "# Vẽ đồ thị về chỉ số precision và recall:\n",
    "from matplotlib import pyplot as plt\n",
    "%matplotlib inline\n",
    "precision, recall, _ = precision_recall_curve(y_test, preds)\n",
    "plt.step(recall, precision, color='b', alpha=0.2, where='post') \n",
    "plt.fill_between(recall, precision, step='post', alpha=0.2, color='b')\n",
    "plt.xlabel('Recall') \n",
    "plt.ylabel('Precision')\n",
    "plt.ylim([0.0, 1.05]) \n",
    "plt.xlim([0.0, 1.0]) \n",
    "plt.title('2-class Precision-Recall curve: AP={0:0.2f}')\n",
    "plt.show()"
   ]
  },
  {
   "cell_type": "code",
   "execution_count": 36,
   "metadata": {},
   "outputs": [
    {
     "data": {
      "image/png": "[encoded data removed]",
      "text/plain": [
       "<Figure size 432x288 with 1 Axes>"
      ]
     },
     "metadata": {},
     "output_type": "display_data"
    }
   ],
   "source": [
    "# Vẽ mức độ quan trọng của các biến độc lập:\n",
    "from xgboost import plot_importance\n",
    "plot_importance(model)\n",
    "plt.show()"
   ]
  },
  {
   "cell_type": "markdown",
   "metadata": {},
   "source": [
    "## Bước 5: tinh chỉnh mô hình:\n",
    "\n",
    "Như chúng ta đã đề cập về vấn đề overfit của mô hình ngay trong lần đầu xây dựng mô hình, phần lớn thời gian khi sử dụng xgboost chúng ta đều gặp phải vấn đề này. Để giảm thiểu vấn đề overfit, chúng ta có thể chú ý đến một số các yếu tố sau:\n",
    "\n",
    "- Tinh chỉnh learning_rate & num_round;\n",
    "- Sử dụng early_stopping_round để chặn việc xây dựng mô hình khi các metric không được cải thiện\n",
    "- Tinh chỉnh các yếu tố khác như: max_depth, min_child_weight(gama)...\n",
    "\n",
    "Ta sẽ đi qua một số các yếu tố này để cải thiện kết quả của mô hình:"
   ]
  },
  {
   "cell_type": "code",
   "execution_count": 37,
   "metadata": {},
   "outputs": [
    {
     "name": "stdout",
     "output_type": "stream",
     "text": [
      "[0]\tval-error:0.021752\tval-auc:0.987006\ttrain-error:0.020748\ttrain-auc:0.988696\n",
      "Multiple eval metrics have been passed: 'train-auc' will be used for early stopping.\n",
      "\n",
      "Will train until train-auc hasn't improved in 10 rounds.\n",
      "[1]\tval-error:0.019596\tval-auc:0.993471\ttrain-error:0.018228\ttrain-auc:0.995265\n",
      "[2]\tval-error:0.0194\tval-auc:0.993613\ttrain-error:0.01764\ttrain-auc:0.995514\n",
      "[3]\tval-error:0.0194\tval-auc:0.993608\ttrain-error:0.01764\ttrain-auc:0.99553\n",
      "[4]\tval-error:0.018616\tval-auc:0.993722\ttrain-error:0.017052\ttrain-auc:0.995576\n",
      "[5]\tval-error:0.017441\tval-auc:0.99381\ttrain-error:0.016296\ttrain-auc:0.995699\n",
      "[6]\tval-error:0.016657\tval-auc:0.993948\ttrain-error:0.015876\ttrain-auc:0.9959\n",
      "[7]\tval-error:0.016265\tval-auc:0.993957\ttrain-error:0.015372\ttrain-auc:0.995913\n",
      "[8]\tval-error:0.015481\tval-auc:0.993976\ttrain-error:0.014868\ttrain-auc:0.995922\n",
      "[9]\tval-error:0.015481\tval-auc:0.994148\ttrain-error:0.014448\ttrain-auc:0.995929\n",
      "[10]\tval-error:0.015481\tval-auc:0.994502\ttrain-error:0.014448\ttrain-auc:0.995931\n",
      "[11]\tval-error:0.015481\tval-auc:0.99451\ttrain-error:0.014448\ttrain-auc:0.995936\n",
      "[12]\tval-error:0.015481\tval-auc:0.99482\ttrain-error:0.014448\ttrain-auc:0.995938\n",
      "[13]\tval-error:0.015285\tval-auc:0.99489\ttrain-error:0.014196\ttrain-auc:0.995941\n",
      "[14]\tval-error:0.014697\tval-auc:0.994991\ttrain-error:0.014028\ttrain-auc:0.996017\n",
      "[15]\tval-error:0.014697\tval-auc:0.9951\ttrain-error:0.014028\ttrain-auc:0.996018\n",
      "[16]\tval-error:0.014697\tval-auc:0.995112\ttrain-error:0.014028\ttrain-auc:0.996019\n",
      "[17]\tval-error:0.014697\tval-auc:0.995145\ttrain-error:0.014028\ttrain-auc:0.99602\n",
      "[18]\tval-error:0.014697\tval-auc:0.995355\ttrain-error:0.014028\ttrain-auc:0.996107\n",
      "[19]\tval-error:0.014697\tval-auc:0.995314\ttrain-error:0.014028\ttrain-auc:0.996107\n",
      "[20]\tval-error:0.014697\tval-auc:0.995381\ttrain-error:0.014028\ttrain-auc:0.996108\n",
      "[21]\tval-error:0.014697\tval-auc:0.995386\ttrain-error:0.014028\ttrain-auc:0.996108\n",
      "[22]\tval-error:0.014697\tval-auc:0.995398\ttrain-error:0.014028\ttrain-auc:0.996109\n",
      "[23]\tval-error:0.014697\tval-auc:0.995453\ttrain-error:0.014028\ttrain-auc:0.996109\n",
      "[24]\tval-error:0.014697\tval-auc:0.995491\ttrain-error:0.014028\ttrain-auc:0.996109\n",
      "[25]\tval-error:0.014697\tval-auc:0.995523\ttrain-error:0.014028\ttrain-auc:0.996109\n",
      "[26]\tval-error:0.014697\tval-auc:0.995519\ttrain-error:0.014028\ttrain-auc:0.996109\n",
      "[27]\tval-error:0.014697\tval-auc:0.995517\ttrain-error:0.01386\ttrain-auc:0.996109\n",
      "[28]\tval-error:0.014697\tval-auc:0.995515\ttrain-error:0.014028\ttrain-auc:0.996109\n",
      "[29]\tval-error:0.014697\tval-auc:0.99551\ttrain-error:0.01386\ttrain-auc:0.996109\n",
      "[30]\tval-error:0.014697\tval-auc:0.99551\ttrain-error:0.014028\ttrain-auc:0.996109\n",
      "[31]\tval-error:0.014697\tval-auc:0.995512\ttrain-error:0.01386\ttrain-auc:0.996109\n",
      "[32]\tval-error:0.014697\tval-auc:0.995511\ttrain-error:0.01386\ttrain-auc:0.996109\n",
      "Stopping. Best iteration:\n",
      "[22]\tval-error:0.014697\tval-auc:0.995398\ttrain-error:0.014028\ttrain-auc:0.996109\n",
      "\n"
     ]
    }
   ],
   "source": [
    "num_round = 100 # số lượng lần train mô hình\n",
    "watchlist = ([dtest, 'val'], [dtrain, 'train'])\n",
    "early_stop = 10 # sử dụng early stop = 5 nếu sau 5 lần train mà chỉ số metric ko cải thiện\n",
    "#lr = np.arange(0.75, 0.1, -(0.75-0.1)/num_round).tolist() # bổ sung learning_rate, giảm dần sau mỗi lần train\n",
    "param_new = {\n",
    "    'max_depth': 3\n",
    "    , 'eta': 0.75 \n",
    "    , 'nthreads': 4 \n",
    "    , 'objective': 'binary:logistic' \n",
    "    , 'eval_metric': ['error', 'auc']\n",
    "    , 'silent': 1 \n",
    "}\n",
    "\n",
    "model_new = xgb.train(param_new\n",
    "                 , dtrain\n",
    "                 , num_round\n",
    "                 , watchlist\n",
    "                 , early_stopping_rounds=early_stop\n",
    "                 #, learning_rates=lr\n",
    "                )"
   ]
  },
  {
   "cell_type": "code",
   "execution_count": 38,
   "metadata": {},
   "outputs": [
    {
     "name": "stdout",
     "output_type": "stream",
     "text": [
      "Accuracy score: 0.985303\n",
      "Error rate: 0.014697\n",
      "Precision score: 0.849287\n",
      "Recall score: 0.997608\n"
     ]
    }
   ],
   "source": [
    "# Kiểm tra độ chính xác:\n",
    "preds_new = model_new.predict(dtest)\n",
    "y_preds_new = (preds_new > .5)\n",
    "print('Accuracy score: %f' %(accuracy_score(y_test, y_preds_new)))\n",
    "print('Error rate: %f' %(1-accuracy_score(y_test, y_preds_new)))\n",
    "print('Precision score: %f' %(precision_score(y_test, y_preds_new)))\n",
    "print('Recall score: %f' %(recall_score(y_test, y_preds_new)))"
   ]
  },
  {
   "cell_type": "markdown",
   "metadata": {},
   "source": [
    "So sánh kết quả này với kết quả trên cho thấy model sau khi được thay đổi một số yếu tố đã có sự tiến bộ hơn. Tuy nhiên, việc overfit của model vẫn chưa được cải thiện rõ ràng."
   ]
  },
  {
   "cell_type": "markdown",
   "metadata": {},
   "source": [
    "#### Sử dụng cross-validation để kiểm định lại mô hình đã tinh chỉnh:\n",
    "\n",
    "Trong xgboost, chúng ta có thể sử dụng cross-validation để kiểm định lại mô hình đã xây dựng, tăng tính chính xác của mô hình. Cách thức thực hiện của cross-validation tương hoàn toàn giống với cách xây dựng mô hình, tuy nhiên, mô hình tạo ra từ cross-validaiton không có tính ứng dụng để dự báo kế quả test (predict) mà chỉnh mang tính kiểm định lại mô hình đã được xây dựng (train)."
   ]
  },
  {
   "cell_type": "code",
   "execution_count": 39,
   "metadata": {
    "scrolled": true
   },
   "outputs": [
    {
     "data": {
      "text/html": [
       "<div>\n",
       "<style scoped>\n",
       "    .dataframe tbody tr th:only-of-type {\n",
       "        vertical-align: middle;\n",
       "    }\n",
       "\n",
       "    .dataframe tbody tr th {\n",
       "        vertical-align: top;\n",
       "    }\n",
       "\n",
       "    .dataframe thead th {\n",
       "        text-align: right;\n",
       "    }\n",
       "</style>\n",
       "<table border=\"1\" class=\"dataframe\">\n",
       "  <thead>\n",
       "    <tr style=\"text-align: right;\">\n",
       "      <th></th>\n",
       "      <th>train-auc-mean</th>\n",
       "      <th>test-auc-mean</th>\n",
       "      <th>train-error-mean</th>\n",
       "      <th>test-error-mean</th>\n",
       "    </tr>\n",
       "  </thead>\n",
       "  <tbody>\n",
       "    <tr>\n",
       "      <th>0</th>\n",
       "      <td>0.989411</td>\n",
       "      <td>0.989151</td>\n",
       "      <td>0.021756</td>\n",
       "      <td>0.022260</td>\n",
       "    </tr>\n",
       "    <tr>\n",
       "      <th>1</th>\n",
       "      <td>0.994594</td>\n",
       "      <td>0.995001</td>\n",
       "      <td>0.018333</td>\n",
       "      <td>0.018228</td>\n",
       "    </tr>\n",
       "    <tr>\n",
       "      <th>2</th>\n",
       "      <td>0.994942</td>\n",
       "      <td>0.995399</td>\n",
       "      <td>0.017871</td>\n",
       "      <td>0.017724</td>\n",
       "    </tr>\n",
       "    <tr>\n",
       "      <th>3</th>\n",
       "      <td>0.995458</td>\n",
       "      <td>0.995431</td>\n",
       "      <td>0.017493</td>\n",
       "      <td>0.017640</td>\n",
       "    </tr>\n",
       "    <tr>\n",
       "      <th>4</th>\n",
       "      <td>0.995568</td>\n",
       "      <td>0.995557</td>\n",
       "      <td>0.017052</td>\n",
       "      <td>0.017052</td>\n",
       "    </tr>\n",
       "    <tr>\n",
       "      <th>5</th>\n",
       "      <td>0.995738</td>\n",
       "      <td>0.995634</td>\n",
       "      <td>0.016023</td>\n",
       "      <td>0.016380</td>\n",
       "    </tr>\n",
       "    <tr>\n",
       "      <th>6</th>\n",
       "      <td>0.995862</td>\n",
       "      <td>0.995838</td>\n",
       "      <td>0.015834</td>\n",
       "      <td>0.015960</td>\n",
       "    </tr>\n",
       "    <tr>\n",
       "      <th>7</th>\n",
       "      <td>0.995908</td>\n",
       "      <td>0.995899</td>\n",
       "      <td>0.015351</td>\n",
       "      <td>0.015792</td>\n",
       "    </tr>\n",
       "    <tr>\n",
       "      <th>8</th>\n",
       "      <td>0.995917</td>\n",
       "      <td>0.995902</td>\n",
       "      <td>0.014994</td>\n",
       "      <td>0.015288</td>\n",
       "    </tr>\n",
       "    <tr>\n",
       "      <th>9</th>\n",
       "      <td>0.995922</td>\n",
       "      <td>0.995907</td>\n",
       "      <td>0.014763</td>\n",
       "      <td>0.015120</td>\n",
       "    </tr>\n",
       "    <tr>\n",
       "      <th>10</th>\n",
       "      <td>0.995928</td>\n",
       "      <td>0.995912</td>\n",
       "      <td>0.014595</td>\n",
       "      <td>0.014952</td>\n",
       "    </tr>\n",
       "    <tr>\n",
       "      <th>11</th>\n",
       "      <td>0.995933</td>\n",
       "      <td>0.995922</td>\n",
       "      <td>0.014448</td>\n",
       "      <td>0.014616</td>\n",
       "    </tr>\n",
       "    <tr>\n",
       "      <th>12</th>\n",
       "      <td>0.995964</td>\n",
       "      <td>0.995900</td>\n",
       "      <td>0.014364</td>\n",
       "      <td>0.014448</td>\n",
       "    </tr>\n",
       "  </tbody>\n",
       "</table>\n",
       "</div>"
      ],
      "text/plain": [
       "    train-auc-mean  test-auc-mean  train-error-mean  test-error-mean\n",
       "0         0.989411       0.989151          0.021756         0.022260\n",
       "1         0.994594       0.995001          0.018333         0.018228\n",
       "2         0.994942       0.995399          0.017871         0.017724\n",
       "3         0.995458       0.995431          0.017493         0.017640\n",
       "4         0.995568       0.995557          0.017052         0.017052\n",
       "5         0.995738       0.995634          0.016023         0.016380\n",
       "6         0.995862       0.995838          0.015834         0.015960\n",
       "7         0.995908       0.995899          0.015351         0.015792\n",
       "8         0.995917       0.995902          0.014994         0.015288\n",
       "9         0.995922       0.995907          0.014763         0.015120\n",
       "10        0.995928       0.995912          0.014595         0.014952\n",
       "11        0.995933       0.995922          0.014448         0.014616\n",
       "12        0.995964       0.995900          0.014364         0.014448"
      ]
     },
     "execution_count": 39,
     "metadata": {},
     "output_type": "execute_result"
    }
   ],
   "source": [
    "num_round = 100 # số lượng lần train mô hình\n",
    "watchlist = ([dtest, 'val'], [dtrain, 'train'])\n",
    "early_stop = 10 # sử dụng early stop = 5 nếu sau 5 lần train mà chỉ số metric ko cải thiện\n",
    "#lr = np.arange(0.75, 0.1, -(0.75-0.1)/num_round).tolist() # bổ sung learning_rate, giảm dần sau mỗi lần train\n",
    "nfold = 5\n",
    "param_cv = {\n",
    "    'max_depth': 3\n",
    "    , 'eta': 0.75\n",
    "    , 'nthreads': 4 \n",
    "    , 'objective': 'binary:logistic' \n",
    "    , 'eval_metric': ['error', 'auc']\n",
    "    , 'silent': 0\n",
    "}\n",
    "\n",
    "model_cv = xgb.cv(param_cv\n",
    "                 , dtrain\n",
    "                 , num_round\n",
    "                 , nfold\n",
    "                 , early_stopping_rounds=early_stop\n",
    "                 )\n",
    "\n",
    "model_cv[(['train-auc-mean', 'test-auc-mean', 'train-error-mean', 'test-error-mean'])]"
   ]
  },
  {
   "cell_type": "code",
   "execution_count": 40,
   "metadata": {},
   "outputs": [
    {
     "data": {
      "image/png": "[encoded data removed]",
      "text/plain": [
       "<Figure size 432x288 with 1 Axes>"
      ]
     },
     "metadata": {},
     "output_type": "display_data"
    }
   ],
   "source": [
    "# Vẽ mức độ quan trọng của các biến độc lập:\n",
    "xgb.plot_importance(model_new)\n",
    "plt.show()"
   ]
  },
  {
   "cell_type": "code",
   "execution_count": null,
   "metadata": {},
   "outputs": [],
   "source": []
  }
 ],
 "metadata": {
  "kernelspec": {
   "display_name": "Python 3",
   "language": "python",
   "name": "python3"
  },
  "language_info": {
   "codemirror_mode": {
    "name": "ipython",
    "version": 3
   },
   "file_extension": ".py",
   "mimetype": "text/x-python",
   "name": "python",
   "nbconvert_exporter": "python",
   "pygments_lexer": "ipython3",
   "version": "3.6.5"
  }
 },
 "nbformat": 4,
 "nbformat_minor": 2
}
